{
  "nbformat": 4,
  "nbformat_minor": 0,
  "metadata": {
    "colab": {
      "name": "BigMart Sales Forecast.ipynb",
      "provenance": [],
      "collapsed_sections": [],
      "toc_visible": true
    },
    "kernelspec": {
      "name": "python3",
      "display_name": "Python 3"
    },
    "language_info": {
      "name": "python"
    },
    "accelerator": "GPU"
  },
  "cells": [
    {
      "cell_type": "markdown",
      "metadata": {
        "id": "WJT4xxyutdts"
      },
      "source": [
        "Dataset link: https://www.kaggle.com/brijbhushannanda1979/bigmart-sales-data"
      ]
    },
    {
      "cell_type": "markdown",
      "metadata": {
        "id": "Fpyx8FaoZuW5"
      },
      "source": [
        "## Preview of Data"
      ]
    },
    {
      "cell_type": "markdown",
      "metadata": {
        "id": "tjcdOCsMlOWD"
      },
      "source": [
        "We have BigMarts Sales data collected in 2013 which is bifurcated in train (8523 records & 12 attributes) and test (5681 records & 11 attributes) data set, train data set has both independant and dependant variable(s) given below\n",
        "\n",
        "\n",
        "\n",
        "*   Item_Identifier: Product ID\n",
        "*   Item_Weight: Weight of Product\n",
        "*   Item_Fat_Content: Fat content of Product- Low/Regular\n",
        "*   Item_Visibility: Parameter to know the visiblity/reach of product\n",
        "*   Item_Type: Category of Product\n",
        "*   Item_MRP: Maximum Retail Price of the Product\n",
        "*   Outlet_Identifier: Store ID\n",
        "*   Outlet_Establishment_Year: The Year in which store is established\n",
        "*   Outlet_Size: Areawise distribution of Stores- Low/Medium/High\n",
        "*   Outlet_Location_Type: Type of city in which outlet is located\n",
        "*   Outlet_Type: Type of outlet - Grocery store or supermarket\n",
        "*   Item_Outlet_Sales: Sale price of product - The dependant variable to be    predicted"
      ]
    },
    {
      "cell_type": "markdown",
      "metadata": {
        "id": "ek_IEhR4koF8"
      },
      "source": [
        "# The Hypothesis "
      ]
    },
    {
      "cell_type": "markdown",
      "metadata": {
        "id": "FvKJ7U18kues"
      },
      "source": [
        "1) Locality: Outlet in populated locality should generate more revenue\n",
        "\n",
        "2) Spending Capacity: Tier 1 should have more spending capacity than tier 2 and tier 3\n",
        "\n",
        "3) Product Selection: Tier 1 should prefer low fat content food as they tend to be more aware of their health\n",
        "\n",
        "4) Item Visiblity: More visible Item should have more revenue generating power\n",
        "\n",
        "5) Area: Stores which have early establishment could have higher outlet size\n",
        "\n",
        "6) MRP: Consumers prefer reasonable product or Branded products   "
      ]
    },
    {
      "cell_type": "markdown",
      "metadata": {
        "id": "eop3E78pgJRM"
      },
      "source": [
        "# Problem Statment"
      ]
    },
    {
      "cell_type": "markdown",
      "metadata": {
        "id": "NZQIoRXOgRqV"
      },
      "source": [
        "\n",
        "We need to analyse the dataset and come up with more insights and\n",
        "our main task is to predict the Sales figure for the test dataset\n",
        "\n",
        "\n"
      ]
    },
    {
      "cell_type": "markdown",
      "metadata": {
        "id": "SVJ-qeOL0nwt"
      },
      "source": [
        "## Approach"
      ]
    },
    {
      "cell_type": "markdown",
      "metadata": {
        "id": "9DvZonAt0xVR"
      },
      "source": [
        "1) By applying Exploratory Data Analysis we will identify the relation between different attributes and evaluate meaningful information\n",
        "\n",
        "2) By applying different supervised machine learning algorithms we will predict the sales for test dataset"
      ]
    },
    {
      "cell_type": "markdown",
      "metadata": {
        "id": "_5ttJTMU2LL8"
      },
      "source": [
        "# Aim of the Project"
      ]
    },
    {
      "cell_type": "markdown",
      "metadata": {
        "id": "VTnnyxK12S2M"
      },
      "source": [
        "The main objective is to find the sales per product for each store and evaluate meaningful insights. Using this model, BigMart will try to understand different attributes of the product and apply them to increase their overall sales"
      ]
    },
    {
      "cell_type": "markdown",
      "metadata": {
        "id": "gTzvGF44tmGB"
      },
      "source": [
        "# Part 1: Data Preprocessing"
      ]
    },
    {
      "cell_type": "markdown",
      "metadata": {
        "id": "IdDj2-Ecu5Uu"
      },
      "source": [
        "## Importing the Librabies and Dataset "
      ]
    },
    {
      "cell_type": "code",
      "metadata": {
        "id": "1FySI6wWVkl1"
      },
      "source": [
        "import os #paths to file\n",
        "import numpy as np # linear algebra\n",
        "import pandas as pd # data processing, CSV file I/O (e.g. pd.read_csv)\n",
        "import warnings# warning filter\n",
        "\n",
        "#ploting libraries\n",
        "import matplotlib.pyplot as plt\n",
        "%matplotlib inline\n",
        "import seaborn as sns\n",
        "sns.set_palette('husl')\n",
        "\n",
        "#feature engineering\n",
        "from sklearn.preprocessing import OneHotEncoder\n",
        "from sklearn.preprocessing import LabelEncoder\n",
        "\n",
        "#train test split\n",
        "from sklearn.model_selection import train_test_split\n",
        "\n",
        "\n",
        "#metrics\n",
        "from sklearn.metrics import mean_absolute_error as MAE\n",
        "from sklearn.metrics import mean_squared_error as MSE\n",
        "from sklearn.metrics import r2_score as R2\n",
        "from sklearn.model_selection  import cross_val_score as CVS\n",
        "\n",
        "\n",
        "#ML models\n",
        "from sklearn.linear_model import LinearRegression\n",
        "from sklearn.ensemble import RandomForestRegressor\n",
        "from sklearn.linear_model import Lasso\n",
        "\n",
        "\n",
        "#default theme and settings\n",
        "sns.set(context='notebook', style='darkgrid', palette='deep', font='sans-serif', font_scale=1, color_codes=False, rc=None)\n",
        "pd.options.display.max_columns\n",
        "\n",
        "#warning hadle\n",
        "warnings.filterwarnings(\"always\")\n",
        "warnings.filterwarnings(\"ignore\")\n",
        "\n",
        "## Display all the columns of the dataframe\n",
        "pd.pandas.set_option('display.max_columns',None)\n",
        "\n",
        "## Display all the rows of the dataframe\n",
        "#pd.pandas.set_option('display.max_rows',None)\n",
        "\n"
      ],
      "execution_count": 1,
      "outputs": []
    },
    {
      "cell_type": "code",
      "metadata": {
        "id": "BN88w-Ybt20u",
        "colab": {
          "base_uri": "https://localhost:8080/"
        },
        "outputId": "82b715d4-905c-48de-a934-b08950fa8026"
      },
      "source": [
        "dataset = pd.read_csv('/content/Train.csv')\n",
        "\n",
        "## print shape of dataset with rows and columns\n",
        "print(dataset.shape)"
      ],
      "execution_count": 2,
      "outputs": [
        {
          "output_type": "stream",
          "text": [
            "(8523, 12)\n"
          ],
          "name": "stdout"
        }
      ]
    },
    {
      "cell_type": "markdown",
      "metadata": {
        "id": "yH_qYju2kEHy"
      },
      "source": [
        "## Data Exploration"
      ]
    },
    {
      "cell_type": "code",
      "metadata": {
        "id": "P-5F08CEvpOh",
        "colab": {
          "base_uri": "https://localhost:8080/",
          "height": 312
        },
        "outputId": "4b2ef69e-43a2-4b77-c7d3-aacc41f1c105"
      },
      "source": [
        "dataset.head()"
      ],
      "execution_count": 3,
      "outputs": [
        {
          "output_type": "execute_result",
          "data": {
            "text/html": [
              "<div>\n",
              "<style scoped>\n",
              "    .dataframe tbody tr th:only-of-type {\n",
              "        vertical-align: middle;\n",
              "    }\n",
              "\n",
              "    .dataframe tbody tr th {\n",
              "        vertical-align: top;\n",
              "    }\n",
              "\n",
              "    .dataframe thead th {\n",
              "        text-align: right;\n",
              "    }\n",
              "</style>\n",
              "<table border=\"1\" class=\"dataframe\">\n",
              "  <thead>\n",
              "    <tr style=\"text-align: right;\">\n",
              "      <th></th>\n",
              "      <th>Item_Identifier</th>\n",
              "      <th>Item_Weight</th>\n",
              "      <th>Item_Fat_Content</th>\n",
              "      <th>Item_Visibility</th>\n",
              "      <th>Item_Type</th>\n",
              "      <th>Item_MRP</th>\n",
              "      <th>Outlet_Identifier</th>\n",
              "      <th>Outlet_Establishment_Year</th>\n",
              "      <th>Outlet_Size</th>\n",
              "      <th>Outlet_Location_Type</th>\n",
              "      <th>Outlet_Type</th>\n",
              "      <th>Item_Outlet_Sales</th>\n",
              "    </tr>\n",
              "  </thead>\n",
              "  <tbody>\n",
              "    <tr>\n",
              "      <th>0</th>\n",
              "      <td>FDA15</td>\n",
              "      <td>9.30</td>\n",
              "      <td>Low Fat</td>\n",
              "      <td>0.016047</td>\n",
              "      <td>Dairy</td>\n",
              "      <td>249.8092</td>\n",
              "      <td>OUT049</td>\n",
              "      <td>1999</td>\n",
              "      <td>Medium</td>\n",
              "      <td>Tier 1</td>\n",
              "      <td>Supermarket Type1</td>\n",
              "      <td>3735.1380</td>\n",
              "    </tr>\n",
              "    <tr>\n",
              "      <th>1</th>\n",
              "      <td>DRC01</td>\n",
              "      <td>5.92</td>\n",
              "      <td>Regular</td>\n",
              "      <td>0.019278</td>\n",
              "      <td>Soft Drinks</td>\n",
              "      <td>48.2692</td>\n",
              "      <td>OUT018</td>\n",
              "      <td>2009</td>\n",
              "      <td>Medium</td>\n",
              "      <td>Tier 3</td>\n",
              "      <td>Supermarket Type2</td>\n",
              "      <td>443.4228</td>\n",
              "    </tr>\n",
              "    <tr>\n",
              "      <th>2</th>\n",
              "      <td>FDN15</td>\n",
              "      <td>17.50</td>\n",
              "      <td>Low Fat</td>\n",
              "      <td>0.016760</td>\n",
              "      <td>Meat</td>\n",
              "      <td>141.6180</td>\n",
              "      <td>OUT049</td>\n",
              "      <td>1999</td>\n",
              "      <td>Medium</td>\n",
              "      <td>Tier 1</td>\n",
              "      <td>Supermarket Type1</td>\n",
              "      <td>2097.2700</td>\n",
              "    </tr>\n",
              "    <tr>\n",
              "      <th>3</th>\n",
              "      <td>FDX07</td>\n",
              "      <td>19.20</td>\n",
              "      <td>Regular</td>\n",
              "      <td>0.000000</td>\n",
              "      <td>Fruits and Vegetables</td>\n",
              "      <td>182.0950</td>\n",
              "      <td>OUT010</td>\n",
              "      <td>1998</td>\n",
              "      <td>NaN</td>\n",
              "      <td>Tier 3</td>\n",
              "      <td>Grocery Store</td>\n",
              "      <td>732.3800</td>\n",
              "    </tr>\n",
              "    <tr>\n",
              "      <th>4</th>\n",
              "      <td>NCD19</td>\n",
              "      <td>8.93</td>\n",
              "      <td>Low Fat</td>\n",
              "      <td>0.000000</td>\n",
              "      <td>Household</td>\n",
              "      <td>53.8614</td>\n",
              "      <td>OUT013</td>\n",
              "      <td>1987</td>\n",
              "      <td>High</td>\n",
              "      <td>Tier 3</td>\n",
              "      <td>Supermarket Type1</td>\n",
              "      <td>994.7052</td>\n",
              "    </tr>\n",
              "  </tbody>\n",
              "</table>\n",
              "</div>"
            ],
            "text/plain": [
              "  Item_Identifier  Item_Weight Item_Fat_Content  Item_Visibility  \\\n",
              "0           FDA15         9.30          Low Fat         0.016047   \n",
              "1           DRC01         5.92          Regular         0.019278   \n",
              "2           FDN15        17.50          Low Fat         0.016760   \n",
              "3           FDX07        19.20          Regular         0.000000   \n",
              "4           NCD19         8.93          Low Fat         0.000000   \n",
              "\n",
              "               Item_Type  Item_MRP Outlet_Identifier  \\\n",
              "0                  Dairy  249.8092            OUT049   \n",
              "1            Soft Drinks   48.2692            OUT018   \n",
              "2                   Meat  141.6180            OUT049   \n",
              "3  Fruits and Vegetables  182.0950            OUT010   \n",
              "4              Household   53.8614            OUT013   \n",
              "\n",
              "   Outlet_Establishment_Year Outlet_Size Outlet_Location_Type  \\\n",
              "0                       1999      Medium               Tier 1   \n",
              "1                       2009      Medium               Tier 3   \n",
              "2                       1999      Medium               Tier 1   \n",
              "3                       1998         NaN               Tier 3   \n",
              "4                       1987        High               Tier 3   \n",
              "\n",
              "         Outlet_Type  Item_Outlet_Sales  \n",
              "0  Supermarket Type1          3735.1380  \n",
              "1  Supermarket Type2           443.4228  \n",
              "2  Supermarket Type1          2097.2700  \n",
              "3      Grocery Store           732.3800  \n",
              "4  Supermarket Type1           994.7052  "
            ]
          },
          "metadata": {
            "tags": []
          },
          "execution_count": 3
        }
      ]
    },
    {
      "cell_type": "code",
      "metadata": {
        "colab": {
          "base_uri": "https://localhost:8080/"
        },
        "id": "yDhjzGmd4Pub",
        "outputId": "eeca8e9f-211a-4467-f884-3a0f3273678a"
      },
      "source": [
        "# check the columns\n",
        "dataset.columns"
      ],
      "execution_count": 4,
      "outputs": [
        {
          "output_type": "execute_result",
          "data": {
            "text/plain": [
              "Index(['Item_Identifier', 'Item_Weight', 'Item_Fat_Content', 'Item_Visibility',\n",
              "       'Item_Type', 'Item_MRP', 'Outlet_Identifier',\n",
              "       'Outlet_Establishment_Year', 'Outlet_Size', 'Outlet_Location_Type',\n",
              "       'Outlet_Type', 'Item_Outlet_Sales'],\n",
              "      dtype='object')"
            ]
          },
          "metadata": {
            "tags": []
          },
          "execution_count": 4
        }
      ]
    },
    {
      "cell_type": "code",
      "metadata": {
        "colab": {
          "base_uri": "https://localhost:8080/"
        },
        "id": "6EDW8fLr5MUn",
        "outputId": "c6985f9a-b32e-4c6c-f519-d36859c93ed5"
      },
      "source": [
        "# check the information about the dataset\n",
        "dataset.info()"
      ],
      "execution_count": 5,
      "outputs": [
        {
          "output_type": "stream",
          "text": [
            "<class 'pandas.core.frame.DataFrame'>\n",
            "RangeIndex: 8523 entries, 0 to 8522\n",
            "Data columns (total 12 columns):\n",
            " #   Column                     Non-Null Count  Dtype  \n",
            "---  ------                     --------------  -----  \n",
            " 0   Item_Identifier            8523 non-null   object \n",
            " 1   Item_Weight                7060 non-null   float64\n",
            " 2   Item_Fat_Content           8523 non-null   object \n",
            " 3   Item_Visibility            8523 non-null   float64\n",
            " 4   Item_Type                  8523 non-null   object \n",
            " 5   Item_MRP                   8523 non-null   float64\n",
            " 6   Outlet_Identifier          8523 non-null   object \n",
            " 7   Outlet_Establishment_Year  8523 non-null   int64  \n",
            " 8   Outlet_Size                6113 non-null   object \n",
            " 9   Outlet_Location_Type       8523 non-null   object \n",
            " 10  Outlet_Type                8523 non-null   object \n",
            " 11  Item_Outlet_Sales          8523 non-null   float64\n",
            "dtypes: float64(4), int64(1), object(7)\n",
            "memory usage: 799.2+ KB\n"
          ],
          "name": "stdout"
        }
      ]
    },
    {
      "cell_type": "code",
      "metadata": {
        "colab": {
          "base_uri": "https://localhost:8080/"
        },
        "id": "N_VsHc0N5O0j",
        "outputId": "e14bea92-8e01-4093-82f6-02f1ba70c8d6"
      },
      "source": [
        "# Check the name of coloumns which contain string\n",
        "dataset.select_dtypes(include='object').columns"
      ],
      "execution_count": 6,
      "outputs": [
        {
          "output_type": "execute_result",
          "data": {
            "text/plain": [
              "Index(['Item_Identifier', 'Item_Fat_Content', 'Item_Type', 'Outlet_Identifier',\n",
              "       'Outlet_Size', 'Outlet_Location_Type', 'Outlet_Type'],\n",
              "      dtype='object')"
            ]
          },
          "metadata": {
            "tags": []
          },
          "execution_count": 6
        }
      ]
    },
    {
      "cell_type": "code",
      "metadata": {
        "colab": {
          "base_uri": "https://localhost:8080/"
        },
        "id": "vzZ2clB05ac3",
        "outputId": "8c613b33-9210-4098-ebe4-beb3914017d3"
      },
      "source": [
        "# Check the no. of coloumns which contain string\n",
        "len(dataset.select_dtypes(include='object').columns)\n"
      ],
      "execution_count": 7,
      "outputs": [
        {
          "output_type": "execute_result",
          "data": {
            "text/plain": [
              "7"
            ]
          },
          "metadata": {
            "tags": []
          },
          "execution_count": 7
        }
      ]
    },
    {
      "cell_type": "code",
      "metadata": {
        "colab": {
          "base_uri": "https://localhost:8080/"
        },
        "id": "ChSl1zZP5eJa",
        "outputId": "88bd823f-9f79-41d9-dea2-0ad58880b538"
      },
      "source": [
        "# Check the name of coloumns which contain numerical value\n",
        "dataset.select_dtypes(include=['int64', 'float64']).columns\n"
      ],
      "execution_count": 8,
      "outputs": [
        {
          "output_type": "execute_result",
          "data": {
            "text/plain": [
              "Index(['Item_Weight', 'Item_Visibility', 'Item_MRP',\n",
              "       'Outlet_Establishment_Year', 'Item_Outlet_Sales'],\n",
              "      dtype='object')"
            ]
          },
          "metadata": {
            "tags": []
          },
          "execution_count": 8
        }
      ]
    },
    {
      "cell_type": "code",
      "metadata": {
        "colab": {
          "base_uri": "https://localhost:8080/"
        },
        "id": "3cqY3TJ65gP4",
        "outputId": "79273b88-8f51-4fa0-81df-577a44bb3fcc"
      },
      "source": [
        "# Check the no. of coloumns which contain numerical value\n",
        "len(dataset.select_dtypes(include=['int64', 'float64']).columns)"
      ],
      "execution_count": 9,
      "outputs": [
        {
          "output_type": "execute_result",
          "data": {
            "text/plain": [
              "5"
            ]
          },
          "metadata": {
            "tags": []
          },
          "execution_count": 9
        }
      ]
    },
    {
      "cell_type": "code",
      "metadata": {
        "colab": {
          "base_uri": "https://localhost:8080/",
          "height": 299
        },
        "id": "qYY8c5rP5i6m",
        "outputId": "758946ec-101b-48c4-bb13-f2dc27c78096"
      },
      "source": [
        "# statistical summary\n",
        "dataset.describe()"
      ],
      "execution_count": 10,
      "outputs": [
        {
          "output_type": "execute_result",
          "data": {
            "text/html": [
              "<div>\n",
              "<style scoped>\n",
              "    .dataframe tbody tr th:only-of-type {\n",
              "        vertical-align: middle;\n",
              "    }\n",
              "\n",
              "    .dataframe tbody tr th {\n",
              "        vertical-align: top;\n",
              "    }\n",
              "\n",
              "    .dataframe thead th {\n",
              "        text-align: right;\n",
              "    }\n",
              "</style>\n",
              "<table border=\"1\" class=\"dataframe\">\n",
              "  <thead>\n",
              "    <tr style=\"text-align: right;\">\n",
              "      <th></th>\n",
              "      <th>Item_Weight</th>\n",
              "      <th>Item_Visibility</th>\n",
              "      <th>Item_MRP</th>\n",
              "      <th>Outlet_Establishment_Year</th>\n",
              "      <th>Item_Outlet_Sales</th>\n",
              "    </tr>\n",
              "  </thead>\n",
              "  <tbody>\n",
              "    <tr>\n",
              "      <th>count</th>\n",
              "      <td>7060.000000</td>\n",
              "      <td>8523.000000</td>\n",
              "      <td>8523.000000</td>\n",
              "      <td>8523.000000</td>\n",
              "      <td>8523.000000</td>\n",
              "    </tr>\n",
              "    <tr>\n",
              "      <th>mean</th>\n",
              "      <td>12.857645</td>\n",
              "      <td>0.066132</td>\n",
              "      <td>140.992782</td>\n",
              "      <td>1997.831867</td>\n",
              "      <td>2181.288914</td>\n",
              "    </tr>\n",
              "    <tr>\n",
              "      <th>std</th>\n",
              "      <td>4.643456</td>\n",
              "      <td>0.051598</td>\n",
              "      <td>62.275067</td>\n",
              "      <td>8.371760</td>\n",
              "      <td>1706.499616</td>\n",
              "    </tr>\n",
              "    <tr>\n",
              "      <th>min</th>\n",
              "      <td>4.555000</td>\n",
              "      <td>0.000000</td>\n",
              "      <td>31.290000</td>\n",
              "      <td>1985.000000</td>\n",
              "      <td>33.290000</td>\n",
              "    </tr>\n",
              "    <tr>\n",
              "      <th>25%</th>\n",
              "      <td>8.773750</td>\n",
              "      <td>0.026989</td>\n",
              "      <td>93.826500</td>\n",
              "      <td>1987.000000</td>\n",
              "      <td>834.247400</td>\n",
              "    </tr>\n",
              "    <tr>\n",
              "      <th>50%</th>\n",
              "      <td>12.600000</td>\n",
              "      <td>0.053931</td>\n",
              "      <td>143.012800</td>\n",
              "      <td>1999.000000</td>\n",
              "      <td>1794.331000</td>\n",
              "    </tr>\n",
              "    <tr>\n",
              "      <th>75%</th>\n",
              "      <td>16.850000</td>\n",
              "      <td>0.094585</td>\n",
              "      <td>185.643700</td>\n",
              "      <td>2004.000000</td>\n",
              "      <td>3101.296400</td>\n",
              "    </tr>\n",
              "    <tr>\n",
              "      <th>max</th>\n",
              "      <td>21.350000</td>\n",
              "      <td>0.328391</td>\n",
              "      <td>266.888400</td>\n",
              "      <td>2009.000000</td>\n",
              "      <td>13086.964800</td>\n",
              "    </tr>\n",
              "  </tbody>\n",
              "</table>\n",
              "</div>"
            ],
            "text/plain": [
              "       Item_Weight  Item_Visibility     Item_MRP  Outlet_Establishment_Year  \\\n",
              "count  7060.000000      8523.000000  8523.000000                8523.000000   \n",
              "mean     12.857645         0.066132   140.992782                1997.831867   \n",
              "std       4.643456         0.051598    62.275067                   8.371760   \n",
              "min       4.555000         0.000000    31.290000                1985.000000   \n",
              "25%       8.773750         0.026989    93.826500                1987.000000   \n",
              "50%      12.600000         0.053931   143.012800                1999.000000   \n",
              "75%      16.850000         0.094585   185.643700                2004.000000   \n",
              "max      21.350000         0.328391   266.888400                2009.000000   \n",
              "\n",
              "       Item_Outlet_Sales  \n",
              "count        8523.000000  \n",
              "mean         2181.288914  \n",
              "std          1706.499616  \n",
              "min            33.290000  \n",
              "25%           834.247400  \n",
              "50%          1794.331000  \n",
              "75%          3101.296400  \n",
              "max         13086.964800  "
            ]
          },
          "metadata": {
            "tags": []
          },
          "execution_count": 10
        }
      ]
    },
    {
      "cell_type": "markdown",
      "metadata": {
        "id": "nTB9reqghbH2"
      },
      "source": [
        "## Dealing with missing data"
      ]
    },
    {
      "cell_type": "code",
      "metadata": {
        "colab": {
          "base_uri": "https://localhost:8080/"
        },
        "id": "21hMWI4ZhQvg",
        "outputId": "4f4895ba-7265-4dab-f03e-2fc05dca3acc"
      },
      "source": [
        "dataset.isnull().values.any()"
      ],
      "execution_count": 11,
      "outputs": [
        {
          "output_type": "execute_result",
          "data": {
            "text/plain": [
              "True"
            ]
          },
          "metadata": {
            "tags": []
          },
          "execution_count": 11
        }
      ]
    },
    {
      "cell_type": "code",
      "metadata": {
        "colab": {
          "base_uri": "https://localhost:8080/"
        },
        "id": "_-UNOPIohehD",
        "outputId": "7ca95131-9882-4411-f25d-ea02da1e3fd0"
      },
      "source": [
        "dataset.isnull().values.sum()"
      ],
      "execution_count": 12,
      "outputs": [
        {
          "output_type": "execute_result",
          "data": {
            "text/plain": [
              "3873"
            ]
          },
          "metadata": {
            "tags": []
          },
          "execution_count": 12
        }
      ]
    },
    {
      "cell_type": "code",
      "metadata": {
        "colab": {
          "base_uri": "https://localhost:8080/"
        },
        "id": "FeepZ1Wt5k8B",
        "outputId": "24de1b0a-ca4e-44a2-f244-709d1b9772c9"
      },
      "source": [
        "dataset.isnull().sum()"
      ],
      "execution_count": 13,
      "outputs": [
        {
          "output_type": "execute_result",
          "data": {
            "text/plain": [
              "Item_Identifier                 0\n",
              "Item_Weight                  1463\n",
              "Item_Fat_Content                0\n",
              "Item_Visibility                 0\n",
              "Item_Type                       0\n",
              "Item_MRP                        0\n",
              "Outlet_Identifier               0\n",
              "Outlet_Establishment_Year       0\n",
              "Outlet_Size                  2410\n",
              "Outlet_Location_Type            0\n",
              "Outlet_Type                     0\n",
              "Item_Outlet_Sales               0\n",
              "dtype: int64"
            ]
          },
          "metadata": {
            "tags": []
          },
          "execution_count": 13
        }
      ]
    },
    {
      "cell_type": "code",
      "metadata": {
        "colab": {
          "base_uri": "https://localhost:8080/"
        },
        "id": "tIXdkLBh65op",
        "outputId": "ba86bc20-ca58-49e6-cc7c-c44829665fa3"
      },
      "source": [
        "# columns with null values\n",
        "dataset.columns[dataset.isnull().any()]"
      ],
      "execution_count": 14,
      "outputs": [
        {
          "output_type": "execute_result",
          "data": {
            "text/plain": [
              "Index(['Item_Weight', 'Outlet_Size'], dtype='object')"
            ]
          },
          "metadata": {
            "tags": []
          },
          "execution_count": 14
        }
      ]
    },
    {
      "cell_type": "code",
      "metadata": {
        "colab": {
          "base_uri": "https://localhost:8080/"
        },
        "id": "KZ68qX1W69-D",
        "outputId": "4a4d8a1d-dcec-44c3-9b4e-324a39c5d7dc"
      },
      "source": [
        "len(dataset.columns[dataset.isnull().any()])"
      ],
      "execution_count": 15,
      "outputs": [
        {
          "output_type": "execute_result",
          "data": {
            "text/plain": [
              "2"
            ]
          },
          "metadata": {
            "tags": []
          },
          "execution_count": 15
        }
      ]
    },
    {
      "cell_type": "code",
      "metadata": {
        "colab": {
          "base_uri": "https://localhost:8080/",
          "height": 647
        },
        "id": "l42yQaXG7Bqw",
        "outputId": "6dd96d62-00a1-4f70-8be8-09ebbed854e1"
      },
      "source": [
        "# null values with heatmap\n",
        "plt.figure(figsize=(16,9))\n",
        "sns.heatmap(dataset.isnull())\n",
        "plt.show()"
      ],
      "execution_count": 16,
      "outputs": [
        {
          "output_type": "display_data",
          "data": {
            "image/png": "[encoded data removed]",
            "text/plain": [
              "<Figure size 1152x648 with 2 Axes>"
            ]
          },
          "metadata": {
            "tags": [],
            "needs_background": "light"
          }
        }
      ]
    },
    {
      "cell_type": "code",
      "metadata": {
        "colab": {
          "base_uri": "https://localhost:8080/"
        },
        "id": "266VyZqW7EJI",
        "outputId": "34957366-01a7-4702-bd14-cecb59e7f717"
      },
      "source": [
        "null_percent = dataset.isnull().sum() / dataset.shape[0] * 100\n",
        "\n",
        "# (missing values / total values) * 100\n",
        "\n",
        "null_percent"
      ],
      "execution_count": 17,
      "outputs": [
        {
          "output_type": "execute_result",
          "data": {
            "text/plain": [
              "Item_Identifier               0.000000\n",
              "Item_Weight                  17.165317\n",
              "Item_Fat_Content              0.000000\n",
              "Item_Visibility               0.000000\n",
              "Item_Type                     0.000000\n",
              "Item_MRP                      0.000000\n",
              "Outlet_Identifier             0.000000\n",
              "Outlet_Establishment_Year     0.000000\n",
              "Outlet_Size                  28.276428\n",
              "Outlet_Location_Type          0.000000\n",
              "Outlet_Type                   0.000000\n",
              "Item_Outlet_Sales             0.000000\n",
              "dtype: float64"
            ]
          },
          "metadata": {
            "tags": []
          },
          "execution_count": 17
        }
      ]
    },
    {
      "cell_type": "code",
      "metadata": {
        "colab": {
          "base_uri": "https://localhost:8080/",
          "height": 357
        },
        "id": "-o7UQkTz7MMI",
        "outputId": "8d24dc06-e849-49c4-ce90-f454f6e26c3d"
      },
      "source": [
        "plt.figure(figsize=(8,5))\n",
        "sns.boxplot('Item_Weight',data=dataset)"
      ],
      "execution_count": 18,
      "outputs": [
        {
          "output_type": "execute_result",
          "data": {
            "text/plain": [
              "<matplotlib.axes._subplots.AxesSubplot at 0x7f6a14239950>"
            ]
          },
          "metadata": {
            "tags": []
          },
          "execution_count": 18
        },
        {
          "output_type": "display_data",
          "data": {
            "image/png": "[encoded data removed]",
            "text/plain": [
              "<Figure size 576x360 with 1 Axes>"
            ]
          },
          "metadata": {
            "tags": [],
            "needs_background": "light"
          }
        }
      ]
    },
    {
      "cell_type": "markdown",
      "metadata": {
        "id": "r47u3t8a88TH"
      },
      "source": [
        "Box Plot suggest we dont have any outlier and hence we can change missing values with 'Mean'"
      ]
    },
    {
      "cell_type": "code",
      "metadata": {
        "id": "jwgVAFRZ828a"
      },
      "source": [
        "dataset['Item_Weight'] = dataset['Item_Weight'].fillna(dataset['Item_Weight'].mean())"
      ],
      "execution_count": 19,
      "outputs": []
    },
    {
      "cell_type": "markdown",
      "metadata": {
        "id": "caRkHmhC92av"
      },
      "source": [
        "Since the Outlet_Size is a categorial variable we can change this missing values to \"Mode\"(Most Repeated Value)"
      ]
    },
    {
      "cell_type": "code",
      "metadata": {
        "id": "3lp2TLGm9fOp"
      },
      "source": [
        "dataset['Outlet_Size'] = dataset['Outlet_Size'].fillna(dataset['Outlet_Size'].mode()[0])"
      ],
      "execution_count": 20,
      "outputs": []
    },
    {
      "cell_type": "code",
      "metadata": {
        "colab": {
          "base_uri": "https://localhost:8080/"
        },
        "id": "TyxuDnAT_WT9",
        "outputId": "90740ac5-8255-4943-dd5f-181deb2b762a"
      },
      "source": [
        "dataset.isnull().values.any()"
      ],
      "execution_count": 21,
      "outputs": [
        {
          "output_type": "execute_result",
          "data": {
            "text/plain": [
              "False"
            ]
          },
          "metadata": {
            "tags": []
          },
          "execution_count": 21
        }
      ]
    },
    {
      "cell_type": "code",
      "metadata": {
        "colab": {
          "base_uri": "https://localhost:8080/"
        },
        "id": "mdFTSDjz_bq1",
        "outputId": "2a84ccd7-808a-4b27-c074-bd09e8c2bacc"
      },
      "source": [
        "len(dataset.columns[dataset.isnull().any()])"
      ],
      "execution_count": 22,
      "outputs": [
        {
          "output_type": "execute_result",
          "data": {
            "text/plain": [
              "0"
            ]
          },
          "metadata": {
            "tags": []
          },
          "execution_count": 22
        }
      ]
    },
    {
      "cell_type": "markdown",
      "metadata": {
        "id": "jrFVJcD6QVwS"
      },
      "source": [
        "## Cleaning the Data"
      ]
    },
    {
      "cell_type": "code",
      "metadata": {
        "colab": {
          "base_uri": "https://localhost:8080/"
        },
        "id": "z5xWpWJGFj5s",
        "outputId": "2b202dce-48d4-484e-e86c-ac8edfccc43e"
      },
      "source": [
        "dataset['Item_Identifier'].value_counts()"
      ],
      "execution_count": 23,
      "outputs": [
        {
          "output_type": "execute_result",
          "data": {
            "text/plain": [
              "FDW13    10\n",
              "FDG33    10\n",
              "FDF52     9\n",
              "NCF42     9\n",
              "NCB18     9\n",
              "         ..\n",
              "FDT35     1\n",
              "DRF48     1\n",
              "FDY43     1\n",
              "FDE52     1\n",
              "FDO33     1\n",
              "Name: Item_Identifier, Length: 1559, dtype: int64"
            ]
          },
          "metadata": {
            "tags": []
          },
          "execution_count": 23
        }
      ]
    },
    {
      "cell_type": "code",
      "metadata": {
        "colab": {
          "base_uri": "https://localhost:8080/"
        },
        "id": "4cI401lAFSvS",
        "outputId": "319924c6-ebfd-4d9b-c556-79795550e6e9"
      },
      "source": [
        "dataset['Item_Fat_Content'].value_counts()"
      ],
      "execution_count": 24,
      "outputs": [
        {
          "output_type": "execute_result",
          "data": {
            "text/plain": [
              "Low Fat    5089\n",
              "Regular    2889\n",
              "LF          316\n",
              "reg         117\n",
              "low fat     112\n",
              "Name: Item_Fat_Content, dtype: int64"
            ]
          },
          "metadata": {
            "tags": []
          },
          "execution_count": 24
        }
      ]
    },
    {
      "cell_type": "markdown",
      "metadata": {
        "id": "ubFIMLGjGXJ9"
      },
      "source": [
        "Some of ‘Low Fat’ values mis-coded as ‘low fat’ and ‘LF’. Also, some of ‘Regular’ are mentioned as ‘regular’. We need to fix them"
      ]
    },
    {
      "cell_type": "code",
      "metadata": {
        "id": "1ZJGx12oGV7m"
      },
      "source": [
        "dataset['Item_Fat_Content'].replace(['low fat','LF','reg'],['Low Fat','Low Fat','Regular'],inplace = True)"
      ],
      "execution_count": 25,
      "outputs": []
    },
    {
      "cell_type": "code",
      "metadata": {
        "colab": {
          "base_uri": "https://localhost:8080/"
        },
        "id": "uihmkBcpI2o_",
        "outputId": "1ca17530-eb1e-4c90-e975-c0fc6529252f"
      },
      "source": [
        "dataset['Item_Fat_Content'].value_counts()"
      ],
      "execution_count": 26,
      "outputs": [
        {
          "output_type": "execute_result",
          "data": {
            "text/plain": [
              "Low Fat    5517\n",
              "Regular    3006\n",
              "Name: Item_Fat_Content, dtype: int64"
            ]
          },
          "metadata": {
            "tags": []
          },
          "execution_count": 26
        }
      ]
    },
    {
      "cell_type": "code",
      "metadata": {
        "colab": {
          "base_uri": "https://localhost:8080/"
        },
        "id": "SHwKyqP9AhqH",
        "outputId": "d2982286-95bc-4195-b46b-4c7962a97833"
      },
      "source": [
        "dataset['Item_Type'].value_counts()"
      ],
      "execution_count": 27,
      "outputs": [
        {
          "output_type": "execute_result",
          "data": {
            "text/plain": [
              "Fruits and Vegetables    1232\n",
              "Snack Foods              1200\n",
              "Household                 910\n",
              "Frozen Foods              856\n",
              "Dairy                     682\n",
              "Canned                    649\n",
              "Baking Goods              648\n",
              "Health and Hygiene        520\n",
              "Soft Drinks               445\n",
              "Meat                      425\n",
              "Breads                    251\n",
              "Hard Drinks               214\n",
              "Others                    169\n",
              "Starchy Foods             148\n",
              "Breakfast                 110\n",
              "Seafood                    64\n",
              "Name: Item_Type, dtype: int64"
            ]
          },
          "metadata": {
            "tags": []
          },
          "execution_count": 27
        }
      ]
    },
    {
      "cell_type": "code",
      "metadata": {
        "colab": {
          "base_uri": "https://localhost:8080/"
        },
        "id": "n8CIfhx4FVW5",
        "outputId": "5d455142-97f1-49e1-832b-492a37939bef"
      },
      "source": [
        "dataset['Outlet_Identifier'].value_counts()"
      ],
      "execution_count": 28,
      "outputs": [
        {
          "output_type": "execute_result",
          "data": {
            "text/plain": [
              "OUT027    935\n",
              "OUT013    932\n",
              "OUT046    930\n",
              "OUT035    930\n",
              "OUT049    930\n",
              "OUT045    929\n",
              "OUT018    928\n",
              "OUT017    926\n",
              "OUT010    555\n",
              "OUT019    528\n",
              "Name: Outlet_Identifier, dtype: int64"
            ]
          },
          "metadata": {
            "tags": []
          },
          "execution_count": 28
        }
      ]
    },
    {
      "cell_type": "code",
      "metadata": {
        "colab": {
          "base_uri": "https://localhost:8080/"
        },
        "id": "eSW3I9WVFsd-",
        "outputId": "6ae6f908-9c23-4e50-b6fa-9ed0bd7c5e07"
      },
      "source": [
        "dataset['Outlet_Size'].value_counts()"
      ],
      "execution_count": 29,
      "outputs": [
        {
          "output_type": "execute_result",
          "data": {
            "text/plain": [
              "Medium    5203\n",
              "Small     2388\n",
              "High       932\n",
              "Name: Outlet_Size, dtype: int64"
            ]
          },
          "metadata": {
            "tags": []
          },
          "execution_count": 29
        }
      ]
    },
    {
      "cell_type": "code",
      "metadata": {
        "colab": {
          "base_uri": "https://localhost:8080/"
        },
        "id": "yTX8zhpBGENX",
        "outputId": "6a50d193-b778-426f-df7f-1fd2786f3865"
      },
      "source": [
        "dataset['Outlet_Location_Type'].value_counts()"
      ],
      "execution_count": 30,
      "outputs": [
        {
          "output_type": "execute_result",
          "data": {
            "text/plain": [
              "Tier 3    3350\n",
              "Tier 2    2785\n",
              "Tier 1    2388\n",
              "Name: Outlet_Location_Type, dtype: int64"
            ]
          },
          "metadata": {
            "tags": []
          },
          "execution_count": 30
        }
      ]
    },
    {
      "cell_type": "code",
      "metadata": {
        "colab": {
          "base_uri": "https://localhost:8080/"
        },
        "id": "Y4IW-dmLGJEZ",
        "outputId": "a769e6dc-3a30-45ae-e6ec-357a395bc616"
      },
      "source": [
        "dataset['Outlet_Type'].value_counts()"
      ],
      "execution_count": 31,
      "outputs": [
        {
          "output_type": "execute_result",
          "data": {
            "text/plain": [
              "Supermarket Type1    5577\n",
              "Grocery Store        1083\n",
              "Supermarket Type3     935\n",
              "Supermarket Type2     928\n",
              "Name: Outlet_Type, dtype: int64"
            ]
          },
          "metadata": {
            "tags": []
          },
          "execution_count": 31
        }
      ]
    },
    {
      "cell_type": "markdown",
      "metadata": {
        "id": "_iMNxlKjLQsB"
      },
      "source": [
        "We will convert \"Outlet_Establishment_Year\" to Age of the Store to get more meaning from the data"
      ]
    },
    {
      "cell_type": "code",
      "metadata": {
        "colab": {
          "base_uri": "https://localhost:8080/",
          "height": 312
        },
        "id": "Po_WW7eJK9ND",
        "outputId": "6ec04d89-6ab4-4020-ce20-6b8682530eda"
      },
      "source": [
        "dataset['Years_Established'] = dataset['Outlet_Establishment_Year'].apply(lambda x: 2021 - x) \n",
        "dataset = dataset.drop(columns=['Outlet_Establishment_Year'])\n",
        "dataset.head()"
      ],
      "execution_count": 32,
      "outputs": [
        {
          "output_type": "execute_result",
          "data": {
            "text/html": [
              "<div>\n",
              "<style scoped>\n",
              "    .dataframe tbody tr th:only-of-type {\n",
              "        vertical-align: middle;\n",
              "    }\n",
              "\n",
              "    .dataframe tbody tr th {\n",
              "        vertical-align: top;\n",
              "    }\n",
              "\n",
              "    .dataframe thead th {\n",
              "        text-align: right;\n",
              "    }\n",
              "</style>\n",
              "<table border=\"1\" class=\"dataframe\">\n",
              "  <thead>\n",
              "    <tr style=\"text-align: right;\">\n",
              "      <th></th>\n",
              "      <th>Item_Identifier</th>\n",
              "      <th>Item_Weight</th>\n",
              "      <th>Item_Fat_Content</th>\n",
              "      <th>Item_Visibility</th>\n",
              "      <th>Item_Type</th>\n",
              "      <th>Item_MRP</th>\n",
              "      <th>Outlet_Identifier</th>\n",
              "      <th>Outlet_Size</th>\n",
              "      <th>Outlet_Location_Type</th>\n",
              "      <th>Outlet_Type</th>\n",
              "      <th>Item_Outlet_Sales</th>\n",
              "      <th>Years_Established</th>\n",
              "    </tr>\n",
              "  </thead>\n",
              "  <tbody>\n",
              "    <tr>\n",
              "      <th>0</th>\n",
              "      <td>FDA15</td>\n",
              "      <td>9.30</td>\n",
              "      <td>Low Fat</td>\n",
              "      <td>0.016047</td>\n",
              "      <td>Dairy</td>\n",
              "      <td>249.8092</td>\n",
              "      <td>OUT049</td>\n",
              "      <td>Medium</td>\n",
              "      <td>Tier 1</td>\n",
              "      <td>Supermarket Type1</td>\n",
              "      <td>3735.1380</td>\n",
              "      <td>22</td>\n",
              "    </tr>\n",
              "    <tr>\n",
              "      <th>1</th>\n",
              "      <td>DRC01</td>\n",
              "      <td>5.92</td>\n",
              "      <td>Regular</td>\n",
              "      <td>0.019278</td>\n",
              "      <td>Soft Drinks</td>\n",
              "      <td>48.2692</td>\n",
              "      <td>OUT018</td>\n",
              "      <td>Medium</td>\n",
              "      <td>Tier 3</td>\n",
              "      <td>Supermarket Type2</td>\n",
              "      <td>443.4228</td>\n",
              "      <td>12</td>\n",
              "    </tr>\n",
              "    <tr>\n",
              "      <th>2</th>\n",
              "      <td>FDN15</td>\n",
              "      <td>17.50</td>\n",
              "      <td>Low Fat</td>\n",
              "      <td>0.016760</td>\n",
              "      <td>Meat</td>\n",
              "      <td>141.6180</td>\n",
              "      <td>OUT049</td>\n",
              "      <td>Medium</td>\n",
              "      <td>Tier 1</td>\n",
              "      <td>Supermarket Type1</td>\n",
              "      <td>2097.2700</td>\n",
              "      <td>22</td>\n",
              "    </tr>\n",
              "    <tr>\n",
              "      <th>3</th>\n",
              "      <td>FDX07</td>\n",
              "      <td>19.20</td>\n",
              "      <td>Regular</td>\n",
              "      <td>0.000000</td>\n",
              "      <td>Fruits and Vegetables</td>\n",
              "      <td>182.0950</td>\n",
              "      <td>OUT010</td>\n",
              "      <td>Medium</td>\n",
              "      <td>Tier 3</td>\n",
              "      <td>Grocery Store</td>\n",
              "      <td>732.3800</td>\n",
              "      <td>23</td>\n",
              "    </tr>\n",
              "    <tr>\n",
              "      <th>4</th>\n",
              "      <td>NCD19</td>\n",
              "      <td>8.93</td>\n",
              "      <td>Low Fat</td>\n",
              "      <td>0.000000</td>\n",
              "      <td>Household</td>\n",
              "      <td>53.8614</td>\n",
              "      <td>OUT013</td>\n",
              "      <td>High</td>\n",
              "      <td>Tier 3</td>\n",
              "      <td>Supermarket Type1</td>\n",
              "      <td>994.7052</td>\n",
              "      <td>34</td>\n",
              "    </tr>\n",
              "  </tbody>\n",
              "</table>\n",
              "</div>"
            ],
            "text/plain": [
              "  Item_Identifier  Item_Weight Item_Fat_Content  Item_Visibility  \\\n",
              "0           FDA15         9.30          Low Fat         0.016047   \n",
              "1           DRC01         5.92          Regular         0.019278   \n",
              "2           FDN15        17.50          Low Fat         0.016760   \n",
              "3           FDX07        19.20          Regular         0.000000   \n",
              "4           NCD19         8.93          Low Fat         0.000000   \n",
              "\n",
              "               Item_Type  Item_MRP Outlet_Identifier Outlet_Size  \\\n",
              "0                  Dairy  249.8092            OUT049      Medium   \n",
              "1            Soft Drinks   48.2692            OUT018      Medium   \n",
              "2                   Meat  141.6180            OUT049      Medium   \n",
              "3  Fruits and Vegetables  182.0950            OUT010      Medium   \n",
              "4              Household   53.8614            OUT013        High   \n",
              "\n",
              "  Outlet_Location_Type        Outlet_Type  Item_Outlet_Sales  \\\n",
              "0               Tier 1  Supermarket Type1          3735.1380   \n",
              "1               Tier 3  Supermarket Type2           443.4228   \n",
              "2               Tier 1  Supermarket Type1          2097.2700   \n",
              "3               Tier 3      Grocery Store           732.3800   \n",
              "4               Tier 3  Supermarket Type1           994.7052   \n",
              "\n",
              "   Years_Established  \n",
              "0                 22  \n",
              "1                 12  \n",
              "2                 22  \n",
              "3                 23  \n",
              "4                 34  "
            ]
          },
          "metadata": {
            "tags": []
          },
          "execution_count": 32
        }
      ]
    },
    {
      "cell_type": "markdown",
      "metadata": {
        "id": "FemdIUb8Qu7F"
      },
      "source": [
        "# Part 2: Exploratory Data Analysis"
      ]
    },
    {
      "cell_type": "markdown",
      "metadata": {
        "id": "eB-5BE6oRTJN"
      },
      "source": [
        "## A] Univariate Analysis"
      ]
    },
    {
      "cell_type": "code",
      "metadata": {
        "colab": {
          "base_uri": "https://localhost:8080/"
        },
        "id": "s4UCCWIIR0R8",
        "outputId": "088f933e-3da4-427b-de71-f3391673498d"
      },
      "source": [
        "# Check the name of coloumns which contain string\n",
        "dataset.select_dtypes(include='object').columns"
      ],
      "execution_count": 33,
      "outputs": [
        {
          "output_type": "execute_result",
          "data": {
            "text/plain": [
              "Index(['Item_Identifier', 'Item_Fat_Content', 'Item_Type', 'Outlet_Identifier',\n",
              "       'Outlet_Size', 'Outlet_Location_Type', 'Outlet_Type'],\n",
              "      dtype='object')"
            ]
          },
          "metadata": {
            "tags": []
          },
          "execution_count": 33
        }
      ]
    },
    {
      "cell_type": "markdown",
      "metadata": {
        "id": "QedZI24qRs5e"
      },
      "source": [
        "### 1) Item Fat Content"
      ]
    },
    {
      "cell_type": "code",
      "metadata": {
        "colab": {
          "base_uri": "https://localhost:8080/",
          "height": 357
        },
        "id": "NE14XdGlQt1m",
        "outputId": "4fded3b6-66ea-4415-91c4-2f90dc7156d7"
      },
      "source": [
        "plt.figure(figsize=(8,5))\n",
        "sns.countplot('Item_Fat_Content',data=dataset,palette='Set1')"
      ],
      "execution_count": 34,
      "outputs": [
        {
          "output_type": "execute_result",
          "data": {
            "text/plain": [
              "<matplotlib.axes._subplots.AxesSubplot at 0x7f6a131d3b90>"
            ]
          },
          "metadata": {
            "tags": []
          },
          "execution_count": 34
        },
        {
          "output_type": "display_data",
          "data": {
            "image/png": "[encoded data removed]",
            "text/plain": [
              "<Figure size 576x360 with 1 Axes>"
            ]
          },
          "metadata": {
            "tags": [],
            "needs_background": "light"
          }
        }
      ]
    },
    {
      "cell_type": "markdown",
      "metadata": {
        "id": "DszoZIOFSxR7"
      },
      "source": [
        "**Observation**: People bought more Low Fat Items"
      ]
    },
    {
      "cell_type": "markdown",
      "metadata": {
        "id": "upX-J0h0TtJ1"
      },
      "source": [
        "### 2) Item Type"
      ]
    },
    {
      "cell_type": "code",
      "metadata": {
        "colab": {
          "base_uri": "https://localhost:8080/",
          "height": 317
        },
        "id": "IuwEfhn0TtKD",
        "outputId": "12c83a74-a407-4da1-db46-f7662f3b893f"
      },
      "source": [
        "plt.figure(figsize=(24,8))\n",
        "sns.countplot('Item_Type',data=dataset,palette='twilight')"
      ],
      "execution_count": 35,
      "outputs": [
        {
          "output_type": "execute_result",
          "data": {
            "text/plain": [
              "<matplotlib.axes._subplots.AxesSubplot at 0x7f6a149fc950>"
            ]
          },
          "metadata": {
            "tags": []
          },
          "execution_count": 35
        },
        {
          "output_type": "display_data",
          "data": {
            "image/png": "[encoded data removed]",
            "text/plain": [
              "<Figure size 1728x576 with 1 Axes>"
            ]
          },
          "metadata": {
            "tags": [],
            "needs_background": "light"
          }
        }
      ]
    },
    {
      "cell_type": "markdown",
      "metadata": {
        "id": "lVQ_Mme_TtKD"
      },
      "source": [
        "**Observation**: People bought more Fruits and Vegetables"
      ]
    },
    {
      "cell_type": "markdown",
      "metadata": {
        "id": "Ujvj1-72T1iX"
      },
      "source": [
        "### 3) Outlet Size"
      ]
    },
    {
      "cell_type": "code",
      "metadata": {
        "colab": {
          "base_uri": "https://localhost:8080/",
          "height": 357
        },
        "id": "Krg0-uerT1iY",
        "outputId": "ca2266d6-5871-4b6a-a83c-8a0b1e59b7b6"
      },
      "source": [
        "plt.figure(figsize=(8,5))\n",
        "sns.countplot('Outlet_Size',data=dataset,palette='Set2')"
      ],
      "execution_count": 36,
      "outputs": [
        {
          "output_type": "execute_result",
          "data": {
            "text/plain": [
              "<matplotlib.axes._subplots.AxesSubplot at 0x7f6a1caff850>"
            ]
          },
          "metadata": {
            "tags": []
          },
          "execution_count": 36
        },
        {
          "output_type": "display_data",
          "data": {
            "image/png": "[encoded data removed]",
            "text/plain": [
              "<Figure size 576x360 with 1 Axes>"
            ]
          },
          "metadata": {
            "tags": [],
            "needs_background": "light"
          }
        }
      ]
    },
    {
      "cell_type": "markdown",
      "metadata": {
        "id": "hP2EAyXNT1iY"
      },
      "source": [
        "**Observation**: We have more Medium Outlets"
      ]
    },
    {
      "cell_type": "markdown",
      "metadata": {
        "id": "up_GhbQZT23V"
      },
      "source": [
        "### 4) Outlet Location"
      ]
    },
    {
      "cell_type": "code",
      "metadata": {
        "colab": {
          "base_uri": "https://localhost:8080/",
          "height": 360
        },
        "id": "l7u0kV7FT23V",
        "outputId": "b9c054b7-365d-44af-f767-9a441569628f"
      },
      "source": [
        "plt.figure(figsize=(8,5))\n",
        "sns.countplot('Outlet_Location_Type',data=dataset,palette='ocean')"
      ],
      "execution_count": 37,
      "outputs": [
        {
          "output_type": "execute_result",
          "data": {
            "text/plain": [
              "<matplotlib.axes._subplots.AxesSubplot at 0x7f6a1ca468d0>"
            ]
          },
          "metadata": {
            "tags": []
          },
          "execution_count": 37
        },
        {
          "output_type": "display_data",
          "data": {
            "image/png": "[encoded data removed]",
            "text/plain": [
              "<Figure size 576x360 with 1 Axes>"
            ]
          },
          "metadata": {
            "tags": [],
            "needs_background": "light"
          }
        }
      ]
    },
    {
      "cell_type": "markdown",
      "metadata": {
        "id": "AV2erleMT23W"
      },
      "source": [
        "**Observation**: Maximum outlets in Tier 3 cities"
      ]
    },
    {
      "cell_type": "markdown",
      "metadata": {
        "id": "AK45yx6lT4EV"
      },
      "source": [
        "### 5) Outlet Type"
      ]
    },
    {
      "cell_type": "code",
      "metadata": {
        "colab": {
          "base_uri": "https://localhost:8080/",
          "height": 357
        },
        "id": "9hi0TjLFT4EW",
        "outputId": "53421226-c523-4174-94cc-a920c95acea9"
      },
      "source": [
        "plt.figure(figsize=(8,5))\n",
        "sns.countplot('Outlet_Type',data=dataset,palette='spring')"
      ],
      "execution_count": 38,
      "outputs": [
        {
          "output_type": "execute_result",
          "data": {
            "text/plain": [
              "<matplotlib.axes._subplots.AxesSubplot at 0x7f6a14256410>"
            ]
          },
          "metadata": {
            "tags": []
          },
          "execution_count": 38
        },
        {
          "output_type": "display_data",
          "data": {
            "image/png": "[encoded data removed]",
            "text/plain": [
              "<Figure size 576x360 with 1 Axes>"
            ]
          },
          "metadata": {
            "tags": [],
            "needs_background": "light"
          }
        }
      ]
    },
    {
      "cell_type": "markdown",
      "metadata": {
        "id": "D1M3sFgjT4EX"
      },
      "source": [
        "**Observation**: Maximum supermarket are of Type 1"
      ]
    },
    {
      "cell_type": "markdown",
      "metadata": {
        "id": "Qdb2c9ukW-Km"
      },
      "source": [
        "## B] Bivariate Analysis"
      ]
    },
    {
      "cell_type": "code",
      "metadata": {
        "colab": {
          "base_uri": "https://localhost:8080/"
        },
        "id": "Oc4PRA5RW-Kn",
        "outputId": "8f953fb1-c39f-4692-9c40-ccb889d9cd3d"
      },
      "source": [
        "# Check the name of coloumns which contain string\n",
        "dataset.select_dtypes(include='object').columns"
      ],
      "execution_count": 39,
      "outputs": [
        {
          "output_type": "execute_result",
          "data": {
            "text/plain": [
              "Index(['Item_Identifier', 'Item_Fat_Content', 'Item_Type', 'Outlet_Identifier',\n",
              "       'Outlet_Size', 'Outlet_Location_Type', 'Outlet_Type'],\n",
              "      dtype='object')"
            ]
          },
          "metadata": {
            "tags": []
          },
          "execution_count": 39
        }
      ]
    },
    {
      "cell_type": "markdown",
      "metadata": {
        "id": "iTYZmWXKW-Ko"
      },
      "source": [
        "### 1) Item Fat Content to Item Outlet Sales"
      ]
    },
    {
      "cell_type": "code",
      "metadata": {
        "colab": {
          "base_uri": "https://localhost:8080/",
          "height": 357
        },
        "id": "m1x87ti3W-Ko",
        "outputId": "3efc8832-3a84-4500-81e7-708ef42966e8"
      },
      "source": [
        "plt.figure(figsize=(8,5))\n",
        "sns.barplot('Item_Fat_Content','Item_Outlet_Sales',data=dataset,palette='summer')"
      ],
      "execution_count": 40,
      "outputs": [
        {
          "output_type": "execute_result",
          "data": {
            "text/plain": [
              "<matplotlib.axes._subplots.AxesSubplot at 0x7f6a13120150>"
            ]
          },
          "metadata": {
            "tags": []
          },
          "execution_count": 40
        },
        {
          "output_type": "display_data",
          "data": {
            "image/png": "[encoded data removed]",
            "text/plain": [
              "<Figure size 576x360 with 1 Axes>"
            ]
          },
          "metadata": {
            "tags": [],
            "needs_background": "light"
          }
        }
      ]
    },
    {
      "cell_type": "markdown",
      "metadata": {
        "id": "hblGTPJQW-Kp"
      },
      "source": [
        "**Observation**: Low Fat and Regular both are contributing equally to the revenue generation"
      ]
    },
    {
      "cell_type": "markdown",
      "metadata": {
        "id": "e1QMu_NyW-Kq"
      },
      "source": [
        "### 2) Item Visiblity to Item Outlet Sales"
      ]
    },
    {
      "cell_type": "code",
      "metadata": {
        "colab": {
          "base_uri": "https://localhost:8080/",
          "height": 340
        },
        "id": "JkTs_ZRLW-Kq",
        "outputId": "214a3195-8f95-4bee-9f52-57143b42131a"
      },
      "source": [
        "plt.figure(figsize=(8,5))\n",
        "plt.scatter('Item_Visibility','Item_Outlet_Sales',data=dataset)"
      ],
      "execution_count": 41,
      "outputs": [
        {
          "output_type": "execute_result",
          "data": {
            "text/plain": [
              "<matplotlib.collections.PathCollection at 0x7f6a130685d0>"
            ]
          },
          "metadata": {
            "tags": []
          },
          "execution_count": 41
        },
        {
          "output_type": "display_data",
          "data": {
            "image/png": "[encoded data removed]",
            "text/plain": [
              "<Figure size 576x360 with 1 Axes>"
            ]
          },
          "metadata": {
            "tags": [],
            "needs_background": "light"
          }
        }
      ]
    },
    {
      "cell_type": "markdown",
      "metadata": {
        "id": "qzAy5WPEW-Kr"
      },
      "source": [
        "**Observation**: Here we have intresting ovservation, where the visiblity of Items is Zero, which suggest those items kept behind in shelf and amlost have no visiblity can also be sold. This show Consumer tend to search for their own products "
      ]
    },
    {
      "cell_type": "markdown",
      "metadata": {
        "id": "dc1dR70EW-Kw"
      },
      "source": [
        "### 3) Item Type to Item Outlet Sales"
      ]
    },
    {
      "cell_type": "code",
      "metadata": {
        "colab": {
          "base_uri": "https://localhost:8080/",
          "height": 520
        },
        "id": "nyaCdMPWW-Kw",
        "outputId": "a3a9fd83-f929-4bf4-b75a-545ab276aec0"
      },
      "source": [
        "plt.figure(figsize=(10,8))\n",
        "sns.barplot(y='Item_Type',x='Item_Outlet_Sales',data=dataset,palette='spring')"
      ],
      "execution_count": 42,
      "outputs": [
        {
          "output_type": "execute_result",
          "data": {
            "text/plain": [
              "<matplotlib.axes._subplots.AxesSubplot at 0x7f6a12feb8d0>"
            ]
          },
          "metadata": {
            "tags": []
          },
          "execution_count": 42
        },
        {
          "output_type": "display_data",
          "data": {
            "image/png": "[encoded data removed]",
            "text/plain": [
              "<Figure size 720x576 with 1 Axes>"
            ]
          },
          "metadata": {
            "tags": [],
            "needs_background": "light"
          }
        }
      ]
    },
    {
      "cell_type": "markdown",
      "metadata": {
        "id": "VzthMAuhW-Kx"
      },
      "source": [
        "**Observation**: Although Fruits and Vegetables unit sold are high, however revenue generated by Seafood is much higher, so we have to focus more on such products"
      ]
    },
    {
      "cell_type": "markdown",
      "metadata": {
        "id": "jfAwPdtxW-Ky"
      },
      "source": [
        "### 4) Item MRP to Item Outlet Sales"
      ]
    },
    {
      "cell_type": "code",
      "metadata": {
        "colab": {
          "base_uri": "https://localhost:8080/",
          "height": 357
        },
        "id": "cf5oZ5-qW-Ky",
        "outputId": "4b7e5cc5-6843-4b1f-8b02-c143242d8665"
      },
      "source": [
        "plt.figure(figsize=(8,5))\n",
        "plt.scatter(y='Item_Outlet_Sales',x='Item_MRP',data=dataset)\n",
        "plt.xlabel('Item MRP')\n",
        "plt.ylabel('Item Outlet Sales')"
      ],
      "execution_count": 43,
      "outputs": [
        {
          "output_type": "execute_result",
          "data": {
            "text/plain": [
              "Text(0, 0.5, 'Item Outlet Sales')"
            ]
          },
          "metadata": {
            "tags": []
          },
          "execution_count": 43
        },
        {
          "output_type": "display_data",
          "data": {
            "image/png": "[encoded data removed]",
            "text/plain": [
              "<Figure size 576x360 with 1 Axes>"
            ]
          },
          "metadata": {
            "tags": [],
            "needs_background": "light"
          }
        }
      ]
    },
    {
      "cell_type": "markdown",
      "metadata": {
        "id": "AoCp9IA4W-Kz"
      },
      "source": [
        "**Observation**: Items with higher MRP are sold maximum"
      ]
    },
    {
      "cell_type": "markdown",
      "metadata": {
        "id": "vXLfm-GHW-K0"
      },
      "source": [
        "### 5) Outlet Size to Item Outlet Sales"
      ]
    },
    {
      "cell_type": "code",
      "metadata": {
        "colab": {
          "base_uri": "https://localhost:8080/",
          "height": 359
        },
        "id": "BixqSxr-W-K0",
        "outputId": "9076f083-6213-43e5-d8df-15c415cdc3d3"
      },
      "source": [
        "plt.figure(figsize=(8,5))\n",
        "sns.barplot(x='Outlet_Size',y='Item_Outlet_Sales',data=dataset,palette='mako')"
      ],
      "execution_count": 44,
      "outputs": [
        {
          "output_type": "execute_result",
          "data": {
            "text/plain": [
              "<matplotlib.axes._subplots.AxesSubplot at 0x7f6a12ec4d50>"
            ]
          },
          "metadata": {
            "tags": []
          },
          "execution_count": 44
        },
        {
          "output_type": "display_data",
          "data": {
            "image/png": "[encoded data removed]",
            "text/plain": [
              "<Figure size 576x360 with 1 Axes>"
            ]
          },
          "metadata": {
            "tags": [],
            "needs_background": "light"
          }
        }
      ]
    },
    {
      "cell_type": "markdown",
      "metadata": {
        "id": "DoT-_MhcW-K1"
      },
      "source": [
        "**Observation**: Medium and High size outlet have maximum revenue generation power"
      ]
    },
    {
      "cell_type": "markdown",
      "metadata": {
        "id": "uVKM2Mt9cWdL"
      },
      "source": [
        "### 6) Outlet Location to Item Outlet Sales"
      ]
    },
    {
      "cell_type": "code",
      "metadata": {
        "colab": {
          "base_uri": "https://localhost:8080/",
          "height": 357
        },
        "id": "Jh3NgeRTcWdM",
        "outputId": "4d7dc797-04cf-4888-d989-f4741ad6f355"
      },
      "source": [
        "plt.figure(figsize=(8,5))\n",
        "sns.barplot(x='Outlet_Location_Type',y='Item_Outlet_Sales',data=dataset,palette='autumn')"
      ],
      "execution_count": 45,
      "outputs": [
        {
          "output_type": "execute_result",
          "data": {
            "text/plain": [
              "<matplotlib.axes._subplots.AxesSubplot at 0x7f6a12e11950>"
            ]
          },
          "metadata": {
            "tags": []
          },
          "execution_count": 45
        },
        {
          "output_type": "display_data",
          "data": {
            "image/png": "[encoded data removed]",
            "text/plain": [
              "<Figure size 576x360 with 1 Axes>"
            ]
          },
          "metadata": {
            "tags": [],
            "needs_background": "light"
          }
        }
      ]
    },
    {
      "cell_type": "markdown",
      "metadata": {
        "id": "29bNdtFScWdN"
      },
      "source": [
        "**Observation**: Tier 2 & 3 have more revenue generation power although we have maximum number ot outlet in Tier 3 cities so it justify the number"
      ]
    },
    {
      "cell_type": "markdown",
      "metadata": {
        "id": "s23w1Hyqds5b"
      },
      "source": [
        "## C] Multivariate Analysis"
      ]
    },
    {
      "cell_type": "code",
      "metadata": {
        "colab": {
          "base_uri": "https://localhost:8080/"
        },
        "id": "vSmQuBYads5c",
        "outputId": "1d58585c-893a-49d2-f83c-ed0c0ded66b8"
      },
      "source": [
        "# Check the name of coloumns which contain string\n",
        "dataset.select_dtypes(include='object').columns"
      ],
      "execution_count": 46,
      "outputs": [
        {
          "output_type": "execute_result",
          "data": {
            "text/plain": [
              "Index(['Item_Identifier', 'Item_Fat_Content', 'Item_Type', 'Outlet_Identifier',\n",
              "       'Outlet_Size', 'Outlet_Location_Type', 'Outlet_Type'],\n",
              "      dtype='object')"
            ]
          },
          "metadata": {
            "tags": []
          },
          "execution_count": 46
        }
      ]
    },
    {
      "cell_type": "markdown",
      "metadata": {
        "id": "pyKHk8sids5d"
      },
      "source": [
        "### 1) Item Type by Item Fat Content to Item Outlet Sales"
      ]
    },
    {
      "cell_type": "code",
      "metadata": {
        "colab": {
          "base_uri": "https://localhost:8080/",
          "height": 215
        },
        "id": "ckTkRIg3ds5d",
        "outputId": "c605abdb-c07d-4237-94fd-bf8f43b46df6"
      },
      "source": [
        "plt.figure(figsize=(25,5))\n",
        "sns.barplot('Item_Type','Item_Outlet_Sales',hue='Item_Fat_Content',data=dataset,palette='Set1')\n",
        "plt.legend()"
      ],
      "execution_count": 47,
      "outputs": [
        {
          "output_type": "execute_result",
          "data": {
            "text/plain": [
              "<matplotlib.legend.Legend at 0x7f6a12de5150>"
            ]
          },
          "metadata": {
            "tags": []
          },
          "execution_count": 47
        },
        {
          "output_type": "display_data",
          "data": {
            "image/png": "[encoded data removed]",
            "text/plain": [
              "<Figure size 1800x360 with 1 Axes>"
            ]
          },
          "metadata": {
            "tags": [],
            "needs_background": "light"
          }
        }
      ]
    },
    {
      "cell_type": "markdown",
      "metadata": {
        "id": "DlBsFvpNds5d"
      },
      "source": [
        "**Observation**: Mostly we have equal revenue generation from Fat and Regular Food Items"
      ]
    },
    {
      "cell_type": "markdown",
      "metadata": {
        "id": "g0QZlIDwds5g"
      },
      "source": [
        "### 2) Outlet Location Type by Outlet Type to Item Outlet Sales"
      ]
    },
    {
      "cell_type": "code",
      "metadata": {
        "colab": {
          "base_uri": "https://localhost:8080/",
          "height": 360
        },
        "id": "D8pkM2Qpds5g",
        "outputId": "4fd139c8-78bf-4eff-fd38-f10864411e1f"
      },
      "source": [
        "plt.figure(figsize=(10,5))\n",
        "sns.barplot('Outlet_Location_Type','Item_Outlet_Sales',hue='Outlet_Type',data=dataset,palette='mako')\n",
        "plt.legend()"
      ],
      "execution_count": 48,
      "outputs": [
        {
          "output_type": "execute_result",
          "data": {
            "text/plain": [
              "<matplotlib.legend.Legend at 0x7f6a130cbfd0>"
            ]
          },
          "metadata": {
            "tags": []
          },
          "execution_count": 48
        },
        {
          "output_type": "display_data",
          "data": {
            "image/png": "[encoded data removed]",
            "text/plain": [
              "<Figure size 720x360 with 1 Axes>"
            ]
          },
          "metadata": {
            "tags": [],
            "needs_background": "light"
          }
        }
      ]
    },
    {
      "cell_type": "markdown",
      "metadata": {
        "id": "HX66lNSxds5h"
      },
      "source": [
        "**Observation**: Here we have intresting ovservation, where the visiblity of Items is Zero, which suggest those items kept behind in shelf and amlost have no visiblity can also be sold. This show Consumer tend to search for their own products "
      ]
    },
    {
      "cell_type": "markdown",
      "metadata": {
        "id": "i5oYRPJFD081"
      },
      "source": [
        "### Distplot"
      ]
    },
    {
      "cell_type": "code",
      "metadata": {
        "colab": {
          "base_uri": "https://localhost:8080/",
          "height": 468
        },
        "id": "zPNpcW1MD3yh",
        "outputId": "976e0f8e-a01d-4ee4-8449-36b62ebf445b"
      },
      "source": [
        "# distplot of the target variable\n",
        "\n",
        "plt.figure(figsize=(16,9))\n",
        "bar = sns.distplot(dataset['Item_Outlet_Sales'])\n",
        "bar.legend([\"Skewness: {:.2f}\".format(dataset['Item_Outlet_Sales'].skew())])\n",
        "plt.show()"
      ],
      "execution_count": 49,
      "outputs": [
        {
          "output_type": "display_data",
          "data": {
            "image/png": "[encoded data removed]",
            "text/plain": [
              "<Figure size 1152x648 with 1 Axes>"
            ]
          },
          "metadata": {
            "tags": [],
            "needs_background": "light"
          }
        }
      ]
    },
    {
      "cell_type": "markdown",
      "metadata": {
        "id": "QYLvyR8OFENH"
      },
      "source": [
        "### Correlation matrix"
      ]
    },
    {
      "cell_type": "code",
      "metadata": {
        "id": "ARU4T9ZjD35m"
      },
      "source": [
        "dataset_2 = dataset.drop(columns='Item_Outlet_Sales')"
      ],
      "execution_count": 50,
      "outputs": []
    },
    {
      "cell_type": "code",
      "metadata": {
        "colab": {
          "base_uri": "https://localhost:8080/"
        },
        "id": "wTFazxCDD3-c",
        "outputId": "b19b5323-a888-496c-a9e3-47ae30a3e6da"
      },
      "source": [
        "dataset_2.shape"
      ],
      "execution_count": 51,
      "outputs": [
        {
          "output_type": "execute_result",
          "data": {
            "text/plain": [
              "(8523, 11)"
            ]
          },
          "metadata": {
            "tags": []
          },
          "execution_count": 51
        }
      ]
    },
    {
      "cell_type": "code",
      "metadata": {
        "colab": {
          "base_uri": "https://localhost:8080/",
          "height": 579
        },
        "id": "NVZNrRkVD4Eo",
        "outputId": "ff1220fb-336c-4471-fb5b-637a1bd36c86"
      },
      "source": [
        "dataset_2.corrwith(dataset['Item_Outlet_Sales']).plot.bar(\n",
        "    figsize=(16,9), title='Correlated with SalePrice', grid=True\n",
        ")"
      ],
      "execution_count": 52,
      "outputs": [
        {
          "output_type": "execute_result",
          "data": {
            "text/plain": [
              "<matplotlib.axes._subplots.AxesSubplot at 0x7f6a10aae690>"
            ]
          },
          "metadata": {
            "tags": []
          },
          "execution_count": 52
        },
        {
          "output_type": "display_data",
          "data": {
            "image/png": "[encoded data removed]",
            "text/plain": [
              "<Figure size 1152x648 with 1 Axes>"
            ]
          },
          "metadata": {
            "tags": [],
            "needs_background": "light"
          }
        }
      ]
    },
    {
      "cell_type": "code",
      "metadata": {
        "colab": {
          "base_uri": "https://localhost:8080/",
          "height": 634
        },
        "id": "QrJ7lndEAUpC",
        "outputId": "9eacfbda-0117-410e-e46c-b37d216bb25f"
      },
      "source": [
        "# heatmap\n",
        "plt.figure(figsize=(9, 9))\n",
        "ax = sns.heatmap(data=dataset.corr(), cmap='coolwarm', annot=True, linewidths=2)"
      ],
      "execution_count": 53,
      "outputs": [
        {
          "output_type": "display_data",
          "data": {
            "image/png": "[encoded data removed]",
            "text/plain": [
              "<Figure size 648x648 with 2 Axes>"
            ]
          },
          "metadata": {
            "tags": [],
            "needs_background": "light"
          }
        }
      ]
    },
    {
      "cell_type": "markdown",
      "metadata": {
        "id": "uyQyyD1-o1Pa"
      },
      "source": [
        "# Part 3) Feature Enginering"
      ]
    },
    {
      "cell_type": "markdown",
      "metadata": {
        "id": "rLuN4vWSpcn1"
      },
      "source": [
        "## Label Encoding"
      ]
    },
    {
      "cell_type": "code",
      "metadata": {
        "id": "eQbBUm-Do729"
      },
      "source": [
        "#feature engineering\n",
        "from sklearn.preprocessing import LabelEncoder\n",
        "le = LabelEncoder()\n",
        "var_mod = ['Outlet_Identifier','Item_Type']\n",
        "\n",
        "for i in var_mod:\n",
        "    dataset[i] = le.fit_transform(dataset[i])\n",
        "    "
      ],
      "execution_count": 54,
      "outputs": []
    },
    {
      "cell_type": "code",
      "metadata": {
        "colab": {
          "base_uri": "https://localhost:8080/",
          "height": 295
        },
        "id": "0vAUY44DquY9",
        "outputId": "2ee36985-0d4a-4e6f-b2c3-965c0c4a01a7"
      },
      "source": [
        "dataset.head()"
      ],
      "execution_count": 55,
      "outputs": [
        {
          "output_type": "execute_result",
          "data": {
            "text/html": [
              "<div>\n",
              "<style scoped>\n",
              "    .dataframe tbody tr th:only-of-type {\n",
              "        vertical-align: middle;\n",
              "    }\n",
              "\n",
              "    .dataframe tbody tr th {\n",
              "        vertical-align: top;\n",
              "    }\n",
              "\n",
              "    .dataframe thead th {\n",
              "        text-align: right;\n",
              "    }\n",
              "</style>\n",
              "<table border=\"1\" class=\"dataframe\">\n",
              "  <thead>\n",
              "    <tr style=\"text-align: right;\">\n",
              "      <th></th>\n",
              "      <th>Item_Identifier</th>\n",
              "      <th>Item_Weight</th>\n",
              "      <th>Item_Fat_Content</th>\n",
              "      <th>Item_Visibility</th>\n",
              "      <th>Item_Type</th>\n",
              "      <th>Item_MRP</th>\n",
              "      <th>Outlet_Identifier</th>\n",
              "      <th>Outlet_Size</th>\n",
              "      <th>Outlet_Location_Type</th>\n",
              "      <th>Outlet_Type</th>\n",
              "      <th>Item_Outlet_Sales</th>\n",
              "      <th>Years_Established</th>\n",
              "    </tr>\n",
              "  </thead>\n",
              "  <tbody>\n",
              "    <tr>\n",
              "      <th>0</th>\n",
              "      <td>FDA15</td>\n",
              "      <td>9.30</td>\n",
              "      <td>Low Fat</td>\n",
              "      <td>0.016047</td>\n",
              "      <td>4</td>\n",
              "      <td>249.8092</td>\n",
              "      <td>9</td>\n",
              "      <td>Medium</td>\n",
              "      <td>Tier 1</td>\n",
              "      <td>Supermarket Type1</td>\n",
              "      <td>3735.1380</td>\n",
              "      <td>22</td>\n",
              "    </tr>\n",
              "    <tr>\n",
              "      <th>1</th>\n",
              "      <td>DRC01</td>\n",
              "      <td>5.92</td>\n",
              "      <td>Regular</td>\n",
              "      <td>0.019278</td>\n",
              "      <td>14</td>\n",
              "      <td>48.2692</td>\n",
              "      <td>3</td>\n",
              "      <td>Medium</td>\n",
              "      <td>Tier 3</td>\n",
              "      <td>Supermarket Type2</td>\n",
              "      <td>443.4228</td>\n",
              "      <td>12</td>\n",
              "    </tr>\n",
              "    <tr>\n",
              "      <th>2</th>\n",
              "      <td>FDN15</td>\n",
              "      <td>17.50</td>\n",
              "      <td>Low Fat</td>\n",
              "      <td>0.016760</td>\n",
              "      <td>10</td>\n",
              "      <td>141.6180</td>\n",
              "      <td>9</td>\n",
              "      <td>Medium</td>\n",
              "      <td>Tier 1</td>\n",
              "      <td>Supermarket Type1</td>\n",
              "      <td>2097.2700</td>\n",
              "      <td>22</td>\n",
              "    </tr>\n",
              "    <tr>\n",
              "      <th>3</th>\n",
              "      <td>FDX07</td>\n",
              "      <td>19.20</td>\n",
              "      <td>Regular</td>\n",
              "      <td>0.000000</td>\n",
              "      <td>6</td>\n",
              "      <td>182.0950</td>\n",
              "      <td>0</td>\n",
              "      <td>Medium</td>\n",
              "      <td>Tier 3</td>\n",
              "      <td>Grocery Store</td>\n",
              "      <td>732.3800</td>\n",
              "      <td>23</td>\n",
              "    </tr>\n",
              "    <tr>\n",
              "      <th>4</th>\n",
              "      <td>NCD19</td>\n",
              "      <td>8.93</td>\n",
              "      <td>Low Fat</td>\n",
              "      <td>0.000000</td>\n",
              "      <td>9</td>\n",
              "      <td>53.8614</td>\n",
              "      <td>1</td>\n",
              "      <td>High</td>\n",
              "      <td>Tier 3</td>\n",
              "      <td>Supermarket Type1</td>\n",
              "      <td>994.7052</td>\n",
              "      <td>34</td>\n",
              "    </tr>\n",
              "  </tbody>\n",
              "</table>\n",
              "</div>"
            ],
            "text/plain": [
              "  Item_Identifier  Item_Weight Item_Fat_Content  Item_Visibility  Item_Type  \\\n",
              "0           FDA15         9.30          Low Fat         0.016047          4   \n",
              "1           DRC01         5.92          Regular         0.019278         14   \n",
              "2           FDN15        17.50          Low Fat         0.016760         10   \n",
              "3           FDX07        19.20          Regular         0.000000          6   \n",
              "4           NCD19         8.93          Low Fat         0.000000          9   \n",
              "\n",
              "   Item_MRP  Outlet_Identifier Outlet_Size Outlet_Location_Type  \\\n",
              "0  249.8092                  9      Medium               Tier 1   \n",
              "1   48.2692                  3      Medium               Tier 3   \n",
              "2  141.6180                  9      Medium               Tier 1   \n",
              "3  182.0950                  0      Medium               Tier 3   \n",
              "4   53.8614                  1        High               Tier 3   \n",
              "\n",
              "         Outlet_Type  Item_Outlet_Sales  Years_Established  \n",
              "0  Supermarket Type1          3735.1380                 22  \n",
              "1  Supermarket Type2           443.4228                 12  \n",
              "2  Supermarket Type1          2097.2700                 22  \n",
              "3      Grocery Store           732.3800                 23  \n",
              "4  Supermarket Type1           994.7052                 34  "
            ]
          },
          "metadata": {
            "tags": []
          },
          "execution_count": 55
        }
      ]
    },
    {
      "cell_type": "markdown",
      "metadata": {
        "id": "GB2EDPckq1Ix"
      },
      "source": [
        "## One Hot Encoding"
      ]
    },
    {
      "cell_type": "code",
      "metadata": {
        "colab": {
          "base_uri": "https://localhost:8080/",
          "height": 295
        },
        "id": "JPQKvk85rvO8",
        "outputId": "785a2431-f1f6-4675-c3cf-abda699ab09b"
      },
      "source": [
        "dataset = dataset.drop(columns=['Item_Identifier'])\n",
        "dataset.head()"
      ],
      "execution_count": 56,
      "outputs": [
        {
          "output_type": "execute_result",
          "data": {
            "text/html": [
              "<div>\n",
              "<style scoped>\n",
              "    .dataframe tbody tr th:only-of-type {\n",
              "        vertical-align: middle;\n",
              "    }\n",
              "\n",
              "    .dataframe tbody tr th {\n",
              "        vertical-align: top;\n",
              "    }\n",
              "\n",
              "    .dataframe thead th {\n",
              "        text-align: right;\n",
              "    }\n",
              "</style>\n",
              "<table border=\"1\" class=\"dataframe\">\n",
              "  <thead>\n",
              "    <tr style=\"text-align: right;\">\n",
              "      <th></th>\n",
              "      <th>Item_Weight</th>\n",
              "      <th>Item_Fat_Content</th>\n",
              "      <th>Item_Visibility</th>\n",
              "      <th>Item_Type</th>\n",
              "      <th>Item_MRP</th>\n",
              "      <th>Outlet_Identifier</th>\n",
              "      <th>Outlet_Size</th>\n",
              "      <th>Outlet_Location_Type</th>\n",
              "      <th>Outlet_Type</th>\n",
              "      <th>Item_Outlet_Sales</th>\n",
              "      <th>Years_Established</th>\n",
              "    </tr>\n",
              "  </thead>\n",
              "  <tbody>\n",
              "    <tr>\n",
              "      <th>0</th>\n",
              "      <td>9.30</td>\n",
              "      <td>Low Fat</td>\n",
              "      <td>0.016047</td>\n",
              "      <td>4</td>\n",
              "      <td>249.8092</td>\n",
              "      <td>9</td>\n",
              "      <td>Medium</td>\n",
              "      <td>Tier 1</td>\n",
              "      <td>Supermarket Type1</td>\n",
              "      <td>3735.1380</td>\n",
              "      <td>22</td>\n",
              "    </tr>\n",
              "    <tr>\n",
              "      <th>1</th>\n",
              "      <td>5.92</td>\n",
              "      <td>Regular</td>\n",
              "      <td>0.019278</td>\n",
              "      <td>14</td>\n",
              "      <td>48.2692</td>\n",
              "      <td>3</td>\n",
              "      <td>Medium</td>\n",
              "      <td>Tier 3</td>\n",
              "      <td>Supermarket Type2</td>\n",
              "      <td>443.4228</td>\n",
              "      <td>12</td>\n",
              "    </tr>\n",
              "    <tr>\n",
              "      <th>2</th>\n",
              "      <td>17.50</td>\n",
              "      <td>Low Fat</td>\n",
              "      <td>0.016760</td>\n",
              "      <td>10</td>\n",
              "      <td>141.6180</td>\n",
              "      <td>9</td>\n",
              "      <td>Medium</td>\n",
              "      <td>Tier 1</td>\n",
              "      <td>Supermarket Type1</td>\n",
              "      <td>2097.2700</td>\n",
              "      <td>22</td>\n",
              "    </tr>\n",
              "    <tr>\n",
              "      <th>3</th>\n",
              "      <td>19.20</td>\n",
              "      <td>Regular</td>\n",
              "      <td>0.000000</td>\n",
              "      <td>6</td>\n",
              "      <td>182.0950</td>\n",
              "      <td>0</td>\n",
              "      <td>Medium</td>\n",
              "      <td>Tier 3</td>\n",
              "      <td>Grocery Store</td>\n",
              "      <td>732.3800</td>\n",
              "      <td>23</td>\n",
              "    </tr>\n",
              "    <tr>\n",
              "      <th>4</th>\n",
              "      <td>8.93</td>\n",
              "      <td>Low Fat</td>\n",
              "      <td>0.000000</td>\n",
              "      <td>9</td>\n",
              "      <td>53.8614</td>\n",
              "      <td>1</td>\n",
              "      <td>High</td>\n",
              "      <td>Tier 3</td>\n",
              "      <td>Supermarket Type1</td>\n",
              "      <td>994.7052</td>\n",
              "      <td>34</td>\n",
              "    </tr>\n",
              "  </tbody>\n",
              "</table>\n",
              "</div>"
            ],
            "text/plain": [
              "   Item_Weight Item_Fat_Content  Item_Visibility  Item_Type  Item_MRP  \\\n",
              "0         9.30          Low Fat         0.016047          4  249.8092   \n",
              "1         5.92          Regular         0.019278         14   48.2692   \n",
              "2        17.50          Low Fat         0.016760         10  141.6180   \n",
              "3        19.20          Regular         0.000000          6  182.0950   \n",
              "4         8.93          Low Fat         0.000000          9   53.8614   \n",
              "\n",
              "   Outlet_Identifier Outlet_Size Outlet_Location_Type        Outlet_Type  \\\n",
              "0                  9      Medium               Tier 1  Supermarket Type1   \n",
              "1                  3      Medium               Tier 3  Supermarket Type2   \n",
              "2                  9      Medium               Tier 1  Supermarket Type1   \n",
              "3                  0      Medium               Tier 3      Grocery Store   \n",
              "4                  1        High               Tier 3  Supermarket Type1   \n",
              "\n",
              "   Item_Outlet_Sales  Years_Established  \n",
              "0          3735.1380                 22  \n",
              "1           443.4228                 12  \n",
              "2          2097.2700                 22  \n",
              "3           732.3800                 23  \n",
              "4           994.7052                 34  "
            ]
          },
          "metadata": {
            "tags": []
          },
          "execution_count": 56
        }
      ]
    },
    {
      "cell_type": "code",
      "metadata": {
        "id": "V_8yAj2d9__6"
      },
      "source": [
        "#feature engineering\n",
        "from sklearn.preprocessing import OneHotEncoder"
      ],
      "execution_count": 57,
      "outputs": []
    },
    {
      "cell_type": "code",
      "metadata": {
        "colab": {
          "base_uri": "https://localhost:8080/"
        },
        "id": "VL_tYKD7qxQi",
        "outputId": "e91823aa-048b-40e1-85a1-f68e6770d888"
      },
      "source": [
        "dataset = pd.get_dummies(data=dataset, drop_first=True)\n",
        "dataset.shape"
      ],
      "execution_count": 58,
      "outputs": [
        {
          "output_type": "execute_result",
          "data": {
            "text/plain": [
              "(8523, 15)"
            ]
          },
          "metadata": {
            "tags": []
          },
          "execution_count": 58
        }
      ]
    },
    {
      "cell_type": "code",
      "metadata": {
        "colab": {
          "base_uri": "https://localhost:8080/",
          "height": 243
        },
        "id": "LOklCefNrmfo",
        "outputId": "d310bd06-f531-4629-bbdf-c9828585572e"
      },
      "source": [
        "dataset.head()"
      ],
      "execution_count": 59,
      "outputs": [
        {
          "output_type": "execute_result",
          "data": {
            "text/html": [
              "<div>\n",
              "<style scoped>\n",
              "    .dataframe tbody tr th:only-of-type {\n",
              "        vertical-align: middle;\n",
              "    }\n",
              "\n",
              "    .dataframe tbody tr th {\n",
              "        vertical-align: top;\n",
              "    }\n",
              "\n",
              "    .dataframe thead th {\n",
              "        text-align: right;\n",
              "    }\n",
              "</style>\n",
              "<table border=\"1\" class=\"dataframe\">\n",
              "  <thead>\n",
              "    <tr style=\"text-align: right;\">\n",
              "      <th></th>\n",
              "      <th>Item_Weight</th>\n",
              "      <th>Item_Visibility</th>\n",
              "      <th>Item_Type</th>\n",
              "      <th>Item_MRP</th>\n",
              "      <th>Outlet_Identifier</th>\n",
              "      <th>Item_Outlet_Sales</th>\n",
              "      <th>Years_Established</th>\n",
              "      <th>Item_Fat_Content_Regular</th>\n",
              "      <th>Outlet_Size_Medium</th>\n",
              "      <th>Outlet_Size_Small</th>\n",
              "      <th>Outlet_Location_Type_Tier 2</th>\n",
              "      <th>Outlet_Location_Type_Tier 3</th>\n",
              "      <th>Outlet_Type_Supermarket Type1</th>\n",
              "      <th>Outlet_Type_Supermarket Type2</th>\n",
              "      <th>Outlet_Type_Supermarket Type3</th>\n",
              "    </tr>\n",
              "  </thead>\n",
              "  <tbody>\n",
              "    <tr>\n",
              "      <th>0</th>\n",
              "      <td>9.30</td>\n",
              "      <td>0.016047</td>\n",
              "      <td>4</td>\n",
              "      <td>249.8092</td>\n",
              "      <td>9</td>\n",
              "      <td>3735.1380</td>\n",
              "      <td>22</td>\n",
              "      <td>0</td>\n",
              "      <td>1</td>\n",
              "      <td>0</td>\n",
              "      <td>0</td>\n",
              "      <td>0</td>\n",
              "      <td>1</td>\n",
              "      <td>0</td>\n",
              "      <td>0</td>\n",
              "    </tr>\n",
              "    <tr>\n",
              "      <th>1</th>\n",
              "      <td>5.92</td>\n",
              "      <td>0.019278</td>\n",
              "      <td>14</td>\n",
              "      <td>48.2692</td>\n",
              "      <td>3</td>\n",
              "      <td>443.4228</td>\n",
              "      <td>12</td>\n",
              "      <td>1</td>\n",
              "      <td>1</td>\n",
              "      <td>0</td>\n",
              "      <td>0</td>\n",
              "      <td>1</td>\n",
              "      <td>0</td>\n",
              "      <td>1</td>\n",
              "      <td>0</td>\n",
              "    </tr>\n",
              "    <tr>\n",
              "      <th>2</th>\n",
              "      <td>17.50</td>\n",
              "      <td>0.016760</td>\n",
              "      <td>10</td>\n",
              "      <td>141.6180</td>\n",
              "      <td>9</td>\n",
              "      <td>2097.2700</td>\n",
              "      <td>22</td>\n",
              "      <td>0</td>\n",
              "      <td>1</td>\n",
              "      <td>0</td>\n",
              "      <td>0</td>\n",
              "      <td>0</td>\n",
              "      <td>1</td>\n",
              "      <td>0</td>\n",
              "      <td>0</td>\n",
              "    </tr>\n",
              "    <tr>\n",
              "      <th>3</th>\n",
              "      <td>19.20</td>\n",
              "      <td>0.000000</td>\n",
              "      <td>6</td>\n",
              "      <td>182.0950</td>\n",
              "      <td>0</td>\n",
              "      <td>732.3800</td>\n",
              "      <td>23</td>\n",
              "      <td>1</td>\n",
              "      <td>1</td>\n",
              "      <td>0</td>\n",
              "      <td>0</td>\n",
              "      <td>1</td>\n",
              "      <td>0</td>\n",
              "      <td>0</td>\n",
              "      <td>0</td>\n",
              "    </tr>\n",
              "    <tr>\n",
              "      <th>4</th>\n",
              "      <td>8.93</td>\n",
              "      <td>0.000000</td>\n",
              "      <td>9</td>\n",
              "      <td>53.8614</td>\n",
              "      <td>1</td>\n",
              "      <td>994.7052</td>\n",
              "      <td>34</td>\n",
              "      <td>0</td>\n",
              "      <td>0</td>\n",
              "      <td>0</td>\n",
              "      <td>0</td>\n",
              "      <td>1</td>\n",
              "      <td>1</td>\n",
              "      <td>0</td>\n",
              "      <td>0</td>\n",
              "    </tr>\n",
              "  </tbody>\n",
              "</table>\n",
              "</div>"
            ],
            "text/plain": [
              "   Item_Weight  Item_Visibility  Item_Type  Item_MRP  Outlet_Identifier  \\\n",
              "0         9.30         0.016047          4  249.8092                  9   \n",
              "1         5.92         0.019278         14   48.2692                  3   \n",
              "2        17.50         0.016760         10  141.6180                  9   \n",
              "3        19.20         0.000000          6  182.0950                  0   \n",
              "4         8.93         0.000000          9   53.8614                  1   \n",
              "\n",
              "   Item_Outlet_Sales  Years_Established  Item_Fat_Content_Regular  \\\n",
              "0          3735.1380                 22                         0   \n",
              "1           443.4228                 12                         1   \n",
              "2          2097.2700                 22                         0   \n",
              "3           732.3800                 23                         1   \n",
              "4           994.7052                 34                         0   \n",
              "\n",
              "   Outlet_Size_Medium  Outlet_Size_Small  Outlet_Location_Type_Tier 2  \\\n",
              "0                   1                  0                            0   \n",
              "1                   1                  0                            0   \n",
              "2                   1                  0                            0   \n",
              "3                   1                  0                            0   \n",
              "4                   0                  0                            0   \n",
              "\n",
              "   Outlet_Location_Type_Tier 3  Outlet_Type_Supermarket Type1  \\\n",
              "0                            0                              1   \n",
              "1                            1                              0   \n",
              "2                            0                              1   \n",
              "3                            1                              0   \n",
              "4                            1                              1   \n",
              "\n",
              "   Outlet_Type_Supermarket Type2  Outlet_Type_Supermarket Type3  \n",
              "0                              0                              0  \n",
              "1                              1                              0  \n",
              "2                              0                              0  \n",
              "3                              0                              0  \n",
              "4                              0                              0  "
            ]
          },
          "metadata": {
            "tags": []
          },
          "execution_count": 59
        }
      ]
    },
    {
      "cell_type": "markdown",
      "metadata": {
        "id": "IetYAabKyOvQ"
      },
      "source": [
        "## Removing Skewness"
      ]
    },
    {
      "cell_type": "markdown",
      "metadata": {
        "id": "Xw13mordyYY2"
      },
      "source": [
        "Skewness in variables is undesirable for predictive modeling. Some machine learning methods assume normally distributed data and a skewed variable can be transformed by taking its log, square root, or cube root so as to make its distribution as close to normal distribution as possible. In our data, variables Item_Visibility is highly skewed. So, we will treat skewness with the help of log transformation."
      ]
    },
    {
      "cell_type": "code",
      "metadata": {
        "id": "rxcfsHs-yPjH"
      },
      "source": [
        "#dataset['Item_Visibility'] = np.log(dataset['Item_Visibility'])"
      ],
      "execution_count": 60,
      "outputs": []
    },
    {
      "cell_type": "code",
      "metadata": {
        "id": "zZW1q5CwzBvW"
      },
      "source": [
        "#dataset.head()"
      ],
      "execution_count": 61,
      "outputs": []
    },
    {
      "cell_type": "markdown",
      "metadata": {
        "id": "_knpVG89tv9C"
      },
      "source": [
        "*Skewness not taken into account as it was hindering the performance*"
      ]
    },
    {
      "cell_type": "markdown",
      "metadata": {
        "id": "HpMo_vbbJGGL"
      },
      "source": [
        "## Splitting the dataset"
      ]
    },
    {
      "cell_type": "code",
      "metadata": {
        "id": "BnKxNaynJJYw"
      },
      "source": [
        "# independ variables / matrix of features\n",
        "x = dataset.drop(columns='Item_Outlet_Sales')"
      ],
      "execution_count": 62,
      "outputs": []
    },
    {
      "cell_type": "code",
      "metadata": {
        "id": "P4_gDgs0JJbN"
      },
      "source": [
        "# target variable / dependent variable\n",
        "y = dataset['Item_Outlet_Sales']"
      ],
      "execution_count": 63,
      "outputs": []
    },
    {
      "cell_type": "code",
      "metadata": {
        "id": "gqntWiluJJd2"
      },
      "source": [
        "from sklearn.model_selection import train_test_split"
      ],
      "execution_count": 64,
      "outputs": []
    },
    {
      "cell_type": "code",
      "metadata": {
        "id": "8wXW96PhJJnS"
      },
      "source": [
        "x_train, x_test, y_train, y_test = train_test_split(x, y, test_size=0.2, random_state=0)"
      ],
      "execution_count": 65,
      "outputs": []
    },
    {
      "cell_type": "code",
      "metadata": {
        "colab": {
          "base_uri": "https://localhost:8080/"
        },
        "id": "ZMK_GSe3JJq1",
        "outputId": "24ef978b-f7e5-4d76-9fb8-f70838e5b069"
      },
      "source": [
        "x_train.shape"
      ],
      "execution_count": 66,
      "outputs": [
        {
          "output_type": "execute_result",
          "data": {
            "text/plain": [
              "(6818, 14)"
            ]
          },
          "metadata": {
            "tags": []
          },
          "execution_count": 66
        }
      ]
    },
    {
      "cell_type": "code",
      "metadata": {
        "colab": {
          "base_uri": "https://localhost:8080/"
        },
        "id": "RwfVATbfJJuA",
        "outputId": "036b6bc2-0347-4050-9c44-c28176d41090"
      },
      "source": [
        "y_train.shape"
      ],
      "execution_count": 67,
      "outputs": [
        {
          "output_type": "execute_result",
          "data": {
            "text/plain": [
              "(6818,)"
            ]
          },
          "metadata": {
            "tags": []
          },
          "execution_count": 67
        }
      ]
    },
    {
      "cell_type": "code",
      "metadata": {
        "colab": {
          "base_uri": "https://localhost:8080/"
        },
        "id": "ZpYLgiwfKOFg",
        "outputId": "3987380e-6419-4fb4-f950-795099b7abd3"
      },
      "source": [
        "x_test.shape"
      ],
      "execution_count": 68,
      "outputs": [
        {
          "output_type": "execute_result",
          "data": {
            "text/plain": [
              "(1705, 14)"
            ]
          },
          "metadata": {
            "tags": []
          },
          "execution_count": 68
        }
      ]
    },
    {
      "cell_type": "code",
      "metadata": {
        "colab": {
          "base_uri": "https://localhost:8080/"
        },
        "id": "tz8_4Oo_KOLg",
        "outputId": "394466ea-071e-4f44-9e9c-a43d73d0316b"
      },
      "source": [
        "y_test.shape"
      ],
      "execution_count": 69,
      "outputs": [
        {
          "output_type": "execute_result",
          "data": {
            "text/plain": [
              "(1705,)"
            ]
          },
          "metadata": {
            "tags": []
          },
          "execution_count": 69
        }
      ]
    },
    {
      "cell_type": "markdown",
      "metadata": {
        "id": "APQwn4HgKd_b"
      },
      "source": [
        "## Feature scaling"
      ]
    },
    {
      "cell_type": "code",
      "metadata": {
        "id": "ACG_CKT8KOSY"
      },
      "source": [
        "features= ['Item_Weight','Item_Fat_Content','Item_Visibility','Item_Type','Item_MRP','Outlet_Size','Outlet_Location_Type','Outlet_Type','Years_Established']"
      ],
      "execution_count": 70,
      "outputs": []
    },
    {
      "cell_type": "markdown",
      "metadata": {
        "id": "uV3-I1RJNeJb"
      },
      "source": [
        "# Part 4: Building the model"
      ]
    },
    {
      "cell_type": "code",
      "metadata": {
        "id": "sr5JxYRF9hIr"
      },
      "source": [
        "#metrics\n",
        "from sklearn.metrics import mean_absolute_error as MAE\n",
        "from sklearn.metrics import mean_squared_error as MSE\n",
        "from sklearn.metrics import r2_score as R2\n",
        "from sklearn.model_selection  import cross_val_score as CVS"
      ],
      "execution_count": 71,
      "outputs": []
    },
    {
      "cell_type": "code",
      "metadata": {
        "id": "rBDKRSa49mWG"
      },
      "source": [
        "#ML models\n",
        "from sklearn.linear_model import LinearRegression\n",
        "from sklearn.ensemble import RandomForestRegressor\n",
        "from sklearn.linear_model import Lasso\n"
      ],
      "execution_count": 72,
      "outputs": []
    },
    {
      "cell_type": "code",
      "metadata": {
        "id": "ejfZWcC7_EgW"
      },
      "source": [
        "def cross_val(model_name,model,x,y,cv):\n",
        "    \n",
        "    scores = CVS(model, x, y, cv=cv)\n",
        "    print(f'{model_name} Scores:')\n",
        "    for i in scores:\n",
        "        print(round(i,2))\n",
        "    print(f'Average {model_name} score: {round(scores.mean(),4)}')"
      ],
      "execution_count": 73,
      "outputs": []
    },
    {
      "cell_type": "markdown",
      "metadata": {
        "id": "UPt12Sd5QDUd"
      },
      "source": [
        "## 1) Multiple Linear Regressor"
      ]
    },
    {
      "cell_type": "code",
      "metadata": {
        "colab": {
          "base_uri": "https://localhost:8080/"
        },
        "id": "0xBs6MWTKhWS",
        "outputId": "9d66f1dc-2a2b-41b6-afb2-929340416e2c"
      },
      "source": [
        "#ML model\n",
        "from sklearn.linear_model import LinearRegression\n",
        "\n",
        "#model\n",
        "regressor_mlr = LinearRegression()\n",
        "\n",
        "#fit\n",
        "regressor_mlr.fit(x_train, y_train)\n",
        "\n",
        "#predict\n",
        "y_pred = regressor_mlr.predict(x_test)\n",
        "\n",
        "#score variables\n",
        "LR_MAE = round(MAE(y_test, y_pred),2)\n",
        "LR_MSE = round(MSE(y_test, y_pred),2)\n",
        "LR_R_2 = round(R2(y_test, y_pred),4)\n",
        "LR_CS  = round(CVS(regressor_mlr, x, y, cv=5).mean(),4)\n",
        "\n",
        "print(f\" Mean Absolute Error: {LR_MAE}\\n\")\n",
        "print(f\" Mean Squared Error: {LR_MSE}\\n\")\n",
        "print(f\" R^2 Score: {LR_R_2}\\n\")\n",
        "cross_val(regressor_mlr,LinearRegression(),x,y,5)"
      ],
      "execution_count": 74,
      "outputs": [
        {
          "output_type": "stream",
          "text": [
            " Mean Absolute Error: 851.52\n",
            "\n",
            " Mean Squared Error: 1275654.43\n",
            "\n",
            " R^2 Score: 0.5642\n",
            "\n",
            "LinearRegression(copy_X=True, fit_intercept=True, n_jobs=None, normalize=False) Scores:\n",
            "0.57\n",
            "0.56\n",
            "0.55\n",
            "0.57\n",
            "0.57\n",
            "Average LinearRegression(copy_X=True, fit_intercept=True, n_jobs=None, normalize=False) score: 0.5613\n"
          ],
          "name": "stdout"
        }
      ]
    },
    {
      "cell_type": "code",
      "metadata": {
        "id": "pNGxzTW5P6aZ"
      },
      "source": [
        "from sklearn.metrics import r2_score"
      ],
      "execution_count": 75,
      "outputs": []
    },
    {
      "cell_type": "code",
      "metadata": {
        "colab": {
          "base_uri": "https://localhost:8080/"
        },
        "id": "mX1IMRhMP6dN",
        "outputId": "83d3f762-670e-42fd-b261-f85b2322259e"
      },
      "source": [
        "r2_score(y_test, y_pred)"
      ],
      "execution_count": 76,
      "outputs": [
        {
          "output_type": "execute_result",
          "data": {
            "text/plain": [
              "0.5641558984606749"
            ]
          },
          "metadata": {
            "tags": []
          },
          "execution_count": 76
        }
      ]
    },
    {
      "cell_type": "code",
      "metadata": {
        "id": "tZQi4rMVAynV"
      },
      "source": [
        "Linear_Regression=pd.DataFrame({'y_test':y_test,'prediction':y_pred})\n",
        "Linear_Regression.to_csv(\"Linear Regression.csv\")   "
      ],
      "execution_count": 77,
      "outputs": []
    },
    {
      "cell_type": "markdown",
      "metadata": {
        "id": "qW1UDR7QSAEu"
      },
      "source": [
        "## 2) Random Forest Regressor"
      ]
    },
    {
      "cell_type": "code",
      "metadata": {
        "colab": {
          "base_uri": "https://localhost:8080/"
        },
        "id": "X-kDr6eXP6ff",
        "outputId": "ecb4f2a0-cc1f-487f-ca34-6dbfe0646415"
      },
      "source": [
        "#ML model\n",
        "from sklearn.ensemble import RandomForestRegressor\n",
        "\n",
        "#model\n",
        "regressor_rf = RandomForestRegressor(n_estimators=200,max_depth=5, min_samples_leaf=100,n_jobs=4,random_state=101)\n",
        "\n",
        "#fit\n",
        "regressor_rf.fit(x_train, y_train)\n",
        "\n",
        "#predict\n",
        "y_pred = regressor_rf.predict(x_test)\n",
        "\n",
        "#score variables\n",
        "RFR_MAE = round(MAE(y_test, y_pred),2)\n",
        "RFR_MSE = round(MSE(y_test, y_pred),2)\n",
        "RFR_R_2 = round(R2(y_test, y_pred),4)\n",
        "RFR_CS  = round(CVS(regressor_rf, x, y, cv=5).mean(),4)\n",
        "\n",
        "\n",
        "\n",
        "print(f\" Mean Absolute Error: {RFR_MAE}\\n\")\n",
        "print(f\" Mean Squared Error: {RFR_MSE}\\n\")\n",
        "print(f\" R^2 Score: {RFR_R_2}\\n\")\n",
        "cross_val(regressor_rf,RandomForestRegressor(),x,y,5)"
      ],
      "execution_count": 78,
      "outputs": [
        {
          "output_type": "stream",
          "text": [
            " Mean Absolute Error: 780.11\n",
            "\n",
            " Mean Squared Error: 1200066.53\n",
            "\n",
            " R^2 Score: 0.59\n",
            "\n",
            "RandomForestRegressor(bootstrap=True, ccp_alpha=0.0, criterion='mse',\n",
            "                      max_depth=5, max_features='auto', max_leaf_nodes=None,\n",
            "                      max_samples=None, min_impurity_decrease=0.0,\n",
            "                      min_impurity_split=None, min_samples_leaf=100,\n",
            "                      min_samples_split=2, min_weight_fraction_leaf=0.0,\n",
            "                      n_estimators=200, n_jobs=4, oob_score=False,\n",
            "                      random_state=101, verbose=0, warm_start=False) Scores:\n",
            "0.58\n",
            "0.53\n",
            "0.53\n",
            "0.55\n",
            "0.57\n",
            "Average RandomForestRegressor(bootstrap=True, ccp_alpha=0.0, criterion='mse',\n",
            "                      max_depth=5, max_features='auto', max_leaf_nodes=None,\n",
            "                      max_samples=None, min_impurity_decrease=0.0,\n",
            "                      min_impurity_split=None, min_samples_leaf=100,\n",
            "                      min_samples_split=2, min_weight_fraction_leaf=0.0,\n",
            "                      n_estimators=200, n_jobs=4, oob_score=False,\n",
            "                      random_state=101, verbose=0, warm_start=False) score: 0.5533\n"
          ],
          "name": "stdout"
        }
      ]
    },
    {
      "cell_type": "code",
      "metadata": {
        "colab": {
          "base_uri": "https://localhost:8080/"
        },
        "id": "jG0WKx20Szod",
        "outputId": "d138f6ed-5621-4412-8687-313056ebd074"
      },
      "source": [
        "from sklearn.metrics import r2_score\n",
        "r2_score(y_test, y_pred)"
      ],
      "execution_count": 79,
      "outputs": [
        {
          "output_type": "execute_result",
          "data": {
            "text/plain": [
              "0.5899814968406034"
            ]
          },
          "metadata": {
            "tags": []
          },
          "execution_count": 79
        }
      ]
    },
    {
      "cell_type": "code",
      "metadata": {
        "id": "x32eq9kTCNa3"
      },
      "source": [
        "Random_Forest_Regressor=pd.DataFrame({'y_test':y_test,'prediction':y_pred})\n",
        "Random_Forest_Regressor.to_csv(\"Random Forest Regressor.csv\")  "
      ],
      "execution_count": 80,
      "outputs": []
    },
    {
      "cell_type": "markdown",
      "metadata": {
        "id": "NLOo5BCxS9Sm"
      },
      "source": [
        "## 3) Lasso Regressor"
      ]
    },
    {
      "cell_type": "code",
      "metadata": {
        "colab": {
          "base_uri": "https://localhost:8080/"
        },
        "id": "NDX7bfY1TAFh",
        "outputId": "178f4b56-2357-475d-b560-5013461d48fa"
      },
      "source": [
        "#ML model\n",
        "from sklearn.linear_model import Lasso\n",
        "\n",
        "#model\n",
        "regressor_ls = Lasso(alpha = 0.05)\n",
        "#fit\n",
        "regressor_ls.fit(x_train,y_train)\n",
        "\n",
        "#predict\n",
        "y_pred = regressor_ls.predict(x_test)\n",
        "\n",
        "#score variables\n",
        "LS_MAE = round(MAE(y_test, y_pred),2)\n",
        "LS_MSE = round(MSE(y_test, y_pred),2)\n",
        "LS_R_2 = round(R2(y_test, y_pred),4)\n",
        "LS_CS  = round(CVS(regressor_ls, x, y, cv=5).mean(),4)\n",
        "\n",
        "print(f\" Mean Absolute Error: {LS_MAE}\\n\")\n",
        "print(f\" Mean Squared Error: {LS_MSE}\\n\")\n",
        "print(f\" R^2 Score: {LS_R_2}\\n\")\n",
        "cross_val(regressor_ls,Lasso(alpha = 0.05),x,y,5)"
      ],
      "execution_count": 81,
      "outputs": [
        {
          "output_type": "stream",
          "text": [
            " Mean Absolute Error: 851.31\n",
            "\n",
            " Mean Squared Error: 1275582.84\n",
            "\n",
            " R^2 Score: 0.5642\n",
            "\n",
            "Lasso(alpha=0.05, copy_X=True, fit_intercept=True, max_iter=1000,\n",
            "      normalize=False, positive=False, precompute=False, random_state=None,\n",
            "      selection='cyclic', tol=0.0001, warm_start=False) Scores:\n",
            "0.57\n",
            "0.56\n",
            "0.55\n",
            "0.57\n",
            "0.57\n",
            "Average Lasso(alpha=0.05, copy_X=True, fit_intercept=True, max_iter=1000,\n",
            "      normalize=False, positive=False, precompute=False, random_state=None,\n",
            "      selection='cyclic', tol=0.0001, warm_start=False) score: 0.5613\n"
          ],
          "name": "stdout"
        }
      ]
    },
    {
      "cell_type": "code",
      "metadata": {
        "colab": {
          "base_uri": "https://localhost:8080/"
        },
        "id": "bTSewXqOTAQS",
        "outputId": "a7233f0d-eeca-4262-e1e1-f759bc5ea12f"
      },
      "source": [
        "from sklearn.metrics import r2_score\n",
        "r2_score(y_test, y_pred)"
      ],
      "execution_count": 82,
      "outputs": [
        {
          "output_type": "execute_result",
          "data": {
            "text/plain": [
              "0.5641803578081257"
            ]
          },
          "metadata": {
            "tags": []
          },
          "execution_count": 82
        }
      ]
    },
    {
      "cell_type": "code",
      "metadata": {
        "id": "Di7r9MTYCgBf"
      },
      "source": [
        "Lasso_Regressor=pd.DataFrame({'y_test':y_test,'prediction':y_pred})\n",
        "Lasso_Regressor.to_csv(\"Lasso Regressor.csv\")    "
      ],
      "execution_count": 83,
      "outputs": []
    },
    {
      "cell_type": "markdown",
      "metadata": {
        "id": "JpH1Io_UCgct"
      },
      "source": [
        "## 4) XGBoost Regressor"
      ]
    },
    {
      "cell_type": "code",
      "metadata": {
        "colab": {
          "base_uri": "https://localhost:8080/"
        },
        "id": "mhbut4OzCgcu",
        "outputId": "016f92fe-d143-4c76-984b-f08eeb434716"
      },
      "source": [
        "#ML model\n",
        "from xgboost import XGBRFRegressor\n",
        "\n",
        "#model\n",
        "regressor_xgb = XGBRFRegressor()\n",
        "\n",
        "#fit\n",
        "regressor_xgb.fit(x_train, y_train)\n",
        "\n",
        "#predict\n",
        "y_pred = regressor_xgb.predict(x_test)\n",
        "\n",
        "#score variables\n",
        "XGB_MAE = round(MAE(y_test, y_pred),2)\n",
        "XGB_MSE = round(MSE(y_test, y_pred),2)\n",
        "XGB_R_2 = round(R2(y_test, y_pred),4)\n",
        "XGB_CS  = round(CVS(regressor_xgb, x, y, cv=5).mean(),4)\n",
        "\n",
        "print(f\" Mean Absolute Error: {XGB_MAE}\\n\")\n",
        "print(f\" Mean Squared Error: {XGB_MSE}\\n\")\n",
        "print(f\" R^2 Score: {XGB_R_2}\\n\")\n",
        "cross_val(regressor_xgb,XGBRFRegressor(alpha = 0.05),x,y,5)\n"
      ],
      "execution_count": 84,
      "outputs": [
        {
          "output_type": "stream",
          "text": [
            "[08:30:58] WARNING: /workspace/src/objective/regression_obj.cu:152: reg:linear is now deprecated in favor of reg:squarederror.\n",
            "[08:30:59] WARNING: /workspace/src/objective/regression_obj.cu:152: reg:linear is now deprecated in favor of reg:squarederror.\n",
            "[08:30:59] WARNING: /workspace/src/objective/regression_obj.cu:152: reg:linear is now deprecated in favor of reg:squarederror.\n",
            "[08:30:59] WARNING: /workspace/src/objective/regression_obj.cu:152: reg:linear is now deprecated in favor of reg:squarederror.\n",
            "[08:31:00] WARNING: /workspace/src/objective/regression_obj.cu:152: reg:linear is now deprecated in favor of reg:squarederror.\n",
            "[08:31:00] WARNING: /workspace/src/objective/regression_obj.cu:152: reg:linear is now deprecated in favor of reg:squarederror.\n",
            " Mean Absolute Error: 919.81\n",
            "\n",
            " Mean Squared Error: 1459762.76\n",
            "\n",
            " R^2 Score: 0.5013\n",
            "\n",
            "[08:31:00] WARNING: /workspace/src/objective/regression_obj.cu:152: reg:linear is now deprecated in favor of reg:squarederror.\n",
            "[08:31:01] WARNING: /workspace/src/objective/regression_obj.cu:152: reg:linear is now deprecated in favor of reg:squarederror.\n",
            "[08:31:01] WARNING: /workspace/src/objective/regression_obj.cu:152: reg:linear is now deprecated in favor of reg:squarederror.\n",
            "[08:31:01] WARNING: /workspace/src/objective/regression_obj.cu:152: reg:linear is now deprecated in favor of reg:squarederror.\n",
            "[08:31:01] WARNING: /workspace/src/objective/regression_obj.cu:152: reg:linear is now deprecated in favor of reg:squarederror.\n",
            "XGBRFRegressor(base_score=0.5, colsample_bylevel=1, colsample_bynode=0.8,\n",
            "               colsample_bytree=1, gamma=0, learning_rate=1, max_delta_step=0,\n",
            "               max_depth=3, min_child_weight=1, missing=None, n_estimators=100,\n",
            "               n_jobs=1, nthread=None, objective='reg:linear', random_state=0,\n",
            "               reg_alpha=0, reg_lambda=1, scale_pos_weight=1, seed=None,\n",
            "               silent=None, subsample=0.8, verbosity=1) Scores:\n",
            "0.49\n",
            "0.49\n",
            "0.48\n",
            "0.5\n",
            "0.5\n",
            "Average XGBRFRegressor(base_score=0.5, colsample_bylevel=1, colsample_bynode=0.8,\n",
            "               colsample_bytree=1, gamma=0, learning_rate=1, max_delta_step=0,\n",
            "               max_depth=3, min_child_weight=1, missing=None, n_estimators=100,\n",
            "               n_jobs=1, nthread=None, objective='reg:linear', random_state=0,\n",
            "               reg_alpha=0, reg_lambda=1, scale_pos_weight=1, seed=None,\n",
            "               silent=None, subsample=0.8, verbosity=1) score: 0.4919\n"
          ],
          "name": "stdout"
        }
      ]
    },
    {
      "cell_type": "code",
      "metadata": {
        "colab": {
          "base_uri": "https://localhost:8080/"
        },
        "id": "ugS4BlBmCgcu",
        "outputId": "831afed5-9bf4-4bb7-8c46-96c6e98b609f"
      },
      "source": [
        "from sklearn.metrics import r2_score\n",
        "r2_score(y_test, y_pred)"
      ],
      "execution_count": 85,
      "outputs": [
        {
          "output_type": "execute_result",
          "data": {
            "text/plain": [
              "0.5012528672172872"
            ]
          },
          "metadata": {
            "tags": []
          },
          "execution_count": 85
        }
      ]
    },
    {
      "cell_type": "code",
      "metadata": {
        "id": "NfoNtXdUEKXt"
      },
      "source": [
        "XGBoost_Regressor=pd.DataFrame({'y_test':y_test,'prediction':y_pred})\n",
        "XGBoost_Regressor.to_csv(\"XGBoost Regressor.csv\")  "
      ],
      "execution_count": 86,
      "outputs": []
    },
    {
      "cell_type": "markdown",
      "metadata": {
        "id": "OFDl1BtdJgYV"
      },
      "source": [
        "## 5) Ridge Regressor"
      ]
    },
    {
      "cell_type": "code",
      "metadata": {
        "colab": {
          "base_uri": "https://localhost:8080/"
        },
        "id": "lr6MY6WyJgYW",
        "outputId": "8df9e8da-2b5d-4995-c4bc-27e76bec216b"
      },
      "source": [
        "#ML model\n",
        "from sklearn.linear_model import Ridge\n",
        "\n",
        "#model\n",
        "regressor_rd = Ridge(normalize=True)\n",
        "#fit\n",
        "regressor_rd.fit(x_train,y_train)\n",
        "\n",
        "#predict\n",
        "y_pred = regressor_ls.predict(x_test)\n",
        "\n",
        "#score variables\n",
        "RD_MAE = round(MAE(y_test, y_pred),2)\n",
        "RD_MSE = round(MSE(y_test, y_pred),2)\n",
        "RD_R_2 = round(R2(y_test, y_pred),4)\n",
        "RD_CS  = round(CVS(regressor_rd, x, y, cv=5).mean(),4)\n",
        "\n",
        "print(f\" Mean Absolute Error: {RD_MAE}\\n\")\n",
        "print(f\" Mean Squared Error: {RD_MSE}\\n\")\n",
        "print(f\" R^2 Score: {RD_R_2}\\n\")\n",
        "cross_val(regressor_rd,Ridge(normalize=True),x,y,5)"
      ],
      "execution_count": 87,
      "outputs": [
        {
          "output_type": "stream",
          "text": [
            " Mean Absolute Error: 851.31\n",
            "\n",
            " Mean Squared Error: 1275582.84\n",
            "\n",
            " R^2 Score: 0.5642\n",
            "\n",
            "Ridge(alpha=1.0, copy_X=True, fit_intercept=True, max_iter=None, normalize=True,\n",
            "      random_state=None, solver='auto', tol=0.001) Scores:\n",
            "0.38\n",
            "0.38\n",
            "0.38\n",
            "0.37\n",
            "0.38\n",
            "Average Ridge(alpha=1.0, copy_X=True, fit_intercept=True, max_iter=None, normalize=True,\n",
            "      random_state=None, solver='auto', tol=0.001) score: 0.376\n"
          ],
          "name": "stdout"
        }
      ]
    },
    {
      "cell_type": "code",
      "metadata": {
        "colab": {
          "base_uri": "https://localhost:8080/"
        },
        "id": "au_3aWfrJgYW",
        "outputId": "0ed400cc-1c5c-4e0d-ffa3-aa79544cbcfe"
      },
      "source": [
        "from sklearn.metrics import r2_score\n",
        "r2_score(y_test, y_pred)"
      ],
      "execution_count": 88,
      "outputs": [
        {
          "output_type": "execute_result",
          "data": {
            "text/plain": [
              "0.5641803578081257"
            ]
          },
          "metadata": {
            "tags": []
          },
          "execution_count": 88
        }
      ]
    },
    {
      "cell_type": "code",
      "metadata": {
        "id": "rR7s6an7JgYX"
      },
      "source": [
        "Ridge_Regressor=pd.DataFrame({'y_test':y_test,'prediction':y_pred})\n",
        "Ridge_Regressor.to_csv(\"Ridge Regressor.csv\")    "
      ],
      "execution_count": 89,
      "outputs": []
    },
    {
      "cell_type": "markdown",
      "metadata": {
        "id": "pz40YQSqLVR3"
      },
      "source": [
        "# Conclusion"
      ]
    },
    {
      "cell_type": "code",
      "metadata": {
        "colab": {
          "base_uri": "https://localhost:8080/",
          "height": 202
        },
        "id": "CLuCh3SILZ_Y",
        "outputId": "84219e5a-5f08-48e4-a4b9-69f86276d709"
      },
      "source": [
        "MAE= [LR_MAE,RFR_MAE,LS_MAE,XGB_MAE,RD_MAE]\n",
        "MSE= [LR_MSE,RFR_MSE,LS_MSE,XGB_MSE,RD_MSE]\n",
        "R_2= [LR_R_2,RFR_R_2,LS_R_2,XGB_R_2,RD_R_2]\n",
        "Cross_score= [LR_CS,RFR_CS,LS_CS,XGB_CS,RD_CS]\n",
        "\n",
        "Models = pd.DataFrame({\n",
        "    'Models': [\"Linear Regression\",\"Random Forest Regressor\",\"Lasso Regressor\",\"XGBoost Regressor\",\"Ridge Regressor\"],\n",
        "    'MAE': MAE, 'MSE': MSE, 'R^2':R_2, 'Cross Validation Score':Cross_score})\n",
        "Models.sort_values(by='MAE', ascending=True)"
      ],
      "execution_count": 90,
      "outputs": [
        {
          "output_type": "execute_result",
          "data": {
            "text/html": [
              "<div>\n",
              "<style scoped>\n",
              "    .dataframe tbody tr th:only-of-type {\n",
              "        vertical-align: middle;\n",
              "    }\n",
              "\n",
              "    .dataframe tbody tr th {\n",
              "        vertical-align: top;\n",
              "    }\n",
              "\n",
              "    .dataframe thead th {\n",
              "        text-align: right;\n",
              "    }\n",
              "</style>\n",
              "<table border=\"1\" class=\"dataframe\">\n",
              "  <thead>\n",
              "    <tr style=\"text-align: right;\">\n",
              "      <th></th>\n",
              "      <th>Models</th>\n",
              "      <th>MAE</th>\n",
              "      <th>MSE</th>\n",
              "      <th>R^2</th>\n",
              "      <th>Cross Validation Score</th>\n",
              "    </tr>\n",
              "  </thead>\n",
              "  <tbody>\n",
              "    <tr>\n",
              "      <th>1</th>\n",
              "      <td>Random Forest Regressor</td>\n",
              "      <td>780.11</td>\n",
              "      <td>1200066.53</td>\n",
              "      <td>0.5900</td>\n",
              "      <td>0.5948</td>\n",
              "    </tr>\n",
              "    <tr>\n",
              "      <th>2</th>\n",
              "      <td>Lasso Regressor</td>\n",
              "      <td>851.31</td>\n",
              "      <td>1275582.84</td>\n",
              "      <td>0.5642</td>\n",
              "      <td>0.5613</td>\n",
              "    </tr>\n",
              "    <tr>\n",
              "      <th>4</th>\n",
              "      <td>Ridge Regressor</td>\n",
              "      <td>851.31</td>\n",
              "      <td>1275582.84</td>\n",
              "      <td>0.5642</td>\n",
              "      <td>0.3760</td>\n",
              "    </tr>\n",
              "    <tr>\n",
              "      <th>0</th>\n",
              "      <td>Linear Regression</td>\n",
              "      <td>851.52</td>\n",
              "      <td>1275654.43</td>\n",
              "      <td>0.5642</td>\n",
              "      <td>0.5613</td>\n",
              "    </tr>\n",
              "    <tr>\n",
              "      <th>3</th>\n",
              "      <td>XGBoost Regressor</td>\n",
              "      <td>919.81</td>\n",
              "      <td>1459762.76</td>\n",
              "      <td>0.5013</td>\n",
              "      <td>0.4919</td>\n",
              "    </tr>\n",
              "  </tbody>\n",
              "</table>\n",
              "</div>"
            ],
            "text/plain": [
              "                    Models     MAE         MSE     R^2  Cross Validation Score\n",
              "1  Random Forest Regressor  780.11  1200066.53  0.5900                  0.5948\n",
              "2          Lasso Regressor  851.31  1275582.84  0.5642                  0.5613\n",
              "4          Ridge Regressor  851.31  1275582.84  0.5642                  0.3760\n",
              "0        Linear Regression  851.52  1275654.43  0.5642                  0.5613\n",
              "3        XGBoost Regressor  919.81  1459762.76  0.5013                  0.4919"
            ]
          },
          "metadata": {
            "tags": []
          },
          "execution_count": 90
        }
      ]
    },
    {
      "cell_type": "markdown",
      "metadata": {
        "id": "ZwQySbW8OGOW"
      },
      "source": [
        "# Realizations"
      ]
    },
    {
      "cell_type": "markdown",
      "metadata": {
        "id": "ZxA4zlwtOL1z"
      },
      "source": [
        "\n",
        "\n",
        "1.   Random Forest is best performing Model\n",
        "2.   MRP has huge correlation with the Outlet Sales\n",
        "3.   For better performance we need parameter tuning \n",
        "\n"
      ]
    },
    {
      "cell_type": "markdown",
      "metadata": {
        "id": "O4UbtNy0UaSS"
      },
      "source": [
        "a) R-Squared:\n",
        "R-squared is a statistical measure that represents the proportion of the variance for a dependent variable that's explained by an independent variable or variables in a regression model.\n",
        "\n",
        "If the R2 of a model is 0.50, then approximately half of the observed variation can be explained by the model's inputs."
      ]
    },
    {
      "cell_type": "markdown",
      "metadata": {
        "id": "hFOpFmlMUfCG"
      },
      "source": [
        "b) MAE and MSE:\n",
        "MAE : The mean absolute error (MAE) is a measure of errors between paired observations expressing the same phenomenon.\n",
        "MSE : The mean squared error tells you how close a regression line is to a set of points. It does this by taking the distances from the points to the regression line (these distances are the “errors”) and squaring them."
      ]
    },
    {
      "cell_type": "markdown",
      "metadata": {
        "id": "-dBdoEbfUr_B"
      },
      "source": [
        "c) RMSE:\n",
        "RMSE is a measure of how spread out these residuals are. In other words, it tells you how concentrated the data is around the line of best fit."
      ]
    },
    {
      "cell_type": "markdown",
      "metadata": {
        "id": "vgvo87FLUtKo"
      },
      "source": [
        ""
      ]
    },
    {
      "cell_type": "code",
      "metadata": {
        "id": "uX1rNeFvOKxl"
      },
      "source": [
        ""
      ],
      "execution_count": 90,
      "outputs": []
    }
  ]
}